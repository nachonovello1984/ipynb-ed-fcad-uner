{
 "cells": [
  {
   "cell_type": "markdown",
   "id": "213b8c3e-9aa0-4abb-947c-3b570b72d202",
   "metadata": {
    "editable": false,
    "slideshow": {
     "slide_type": "slide"
    },
    "tags": []
   },
   "source": [
    "<div class=\"portada\">\n",
    "    <img src=\"assets/fcad-70.png\" alt=\"Texto alternativo\"  alt=\"Facultad de Ciencias de la Administración - UNER\" style=\"display: inline; width:50%; max-width: 450px;\"/>\n",
    "    <h1>Unidad 1: Introducción a Estructuras de Datos</h1>\n",
    "    <h3>Estructuras de Datos</h3>\n",
    "    <h4>Facultad de Ciencias de la Administración - UNER</h4>\n",
    "</div>"
   ]
  },
  {
   "cell_type": "code",
   "execution_count": 3,
   "id": "44d46d81",
   "metadata": {},
   "outputs": [
    {
     "name": "stdout",
     "output_type": "stream",
     "text": [
      "PRIMER CUATRIMESTRE DE 2024 😎\n"
     ]
    }
   ],
   "source": [
    "from datetime import datetime\n",
    "print(f\"{'PRIMER' if datetime.now().month < 7 else 'SEGUNDO'} CUATRIMESTRE DE {datetime.now().year} 😎\")"
   ]
  },
  {
   "cell_type": "markdown",
   "id": "e1eddf1b-a283-4327-baee-42f0580ae8c4",
   "metadata": {
    "editable": false,
    "slideshow": {
     "slide_type": "slide"
    },
    "tags": []
   },
   "source": [
    "# Objetivos\n",
    "* Entender cómo definir funciones. \n",
    "* Comprender las distintas técnicas para separar las responsabilidades de una aplicación.\n",
    "* Conocer la importancia de la reutilización de código.\n",
    "* Definir funciones recursivas."
   ]
  },
  {
   "cell_type": "markdown",
   "id": "4d66a3ce",
   "metadata": {
    "slideshow": {
     "slide_type": "subslide"
    }
   },
   "source": [
    "## Temas a desarrollar:\n",
    "* Modularización. Definición. Funciones. Definición.\n",
    "* Parámetros y argumentos. Técnicas de diseño top-down y bottom-up. \n",
    "* Recursividad. Definición. "
   ]
  },
  {
   "cell_type": "markdown",
   "id": "144705c6-cc1c-4cfc-8367-9df441943f4e",
   "metadata": {
    "editable": false,
    "slideshow": {
     "slide_type": "slide"
    },
    "tags": []
   },
   "source": [
    "# Modularización y diseño descendente\n",
    "* Uno de los métodos fundamentales para resolver un problema es dividirlo en problemas más pequeños llamados **subproblemas**. \n",
    "* Estos problemas pueden ser divididos repetidamente en problemas más pequeños hasta que sean solucionados.\n",
    "* La técnica de dividir el problema principal en subproblemas se denomina frecuentemente, <span class=\"destacado\">divide y vencerás</span>. \n",
    "* El método de diseñar la solución de un problema principal obteniendo las soluciones de sus subproblemas se denomina <span class=\"destacado\">diseño descendente (top-down design)</span> debido a que se comienza en la parte superior con un problema general y se diseñan soluciones específicas a sus subproblemas.\n",
    "    * Cada subproblema es deseable que sea **independiente** de los restantes y se denomina **módulo**.\n",
    "    * El problema principal se resuelve con el programa principal (también llamado conductor del programa) y los subproblemas (**módulos**) mediante subprogramas.\n"
   ]
  },
  {
   "cell_type": "markdown",
   "id": "a3bc0d34",
   "metadata": {
    "slideshow": {
     "slide_type": "subslide"
    }
   },
   "source": [
    "# Modularización y diseño descendente (2)\n",
    "* Un **subprograma** realiza una tarea concreta que se describe con una serie de instrucciones.\n",
    "* La resolución de un problema comienza con una <span class=\"destacado\">descomposición modular</span> y luego nuevas descomposiciones de cada módulo en un proceso denominado <span class=\"destacado\">refinamiento sucesivo</span> (stepwise).\n",
    "* **Ejemplo**:\n",
    "    * Dadas las puntuaciones de una clase de informática, ordenar las puntuaciones (notas) en orden descendente; a continuación visualizar la calificación alcanzada basada en la puntuación. Realizar el análisis y el algoritmo.\n",
    "<figure class=\"centrado\">\n",
    "  <picture>\n",
    "    <img src=\"assets/Practica03_Funciones/diseno_descendente.png\" alt=\"Diseño descendente - Notas\">\n",
    "  </picture>\n",
    "</figure>"
   ]
  },
  {
   "cell_type": "markdown",
   "id": "625892ac-a8c9-4785-8208-e54bcab7d241",
   "metadata": {
    "editable": false,
    "slideshow": {
     "slide_type": "slide"
    },
    "tags": []
   },
   "source": [
    "# Funciones\n",
    "* En el contexto de programación, una **función** es un <span class=\"destacado\">nombre</span> que se le asigna a una <span class=\"destacado\">secuencia de sentencias</span> que llevan a cabo un cómputo. \n",
    "* Una **función** nos permite definir un bloque de código <span class=\"destacado\">reutilizable</span> que se puede ejecutar muchas veces dentro de nuestro programa.\n",
    "* El resultado es un código simple, elegante y más legible, lo que facilita la depuración y limita los errores de escritura."
   ]
  },
  {
   "cell_type": "markdown",
   "id": "040f7585",
   "metadata": {
    "slideshow": {
     "slide_type": "slide"
    }
   },
   "source": [
    "# Llamadas a funciones\n",
    "\n",
    "* Ya previamente vimos invocaciones a funciones cuando usamos la función ```type(42)```."
   ]
  },
  {
   "cell_type": "code",
   "execution_count": null,
   "id": "4d98be6d",
   "metadata": {
    "slideshow": {
     "slide_type": "fragment"
    }
   },
   "outputs": [],
   "source": [
    "print(type(42))"
   ]
  },
  {
   "cell_type": "markdown",
   "id": "8ed350d1",
   "metadata": {
    "slideshow": {
     "slide_type": "fragment"
    }
   },
   "source": [
    "* El nombre de la función es ```type```. La expresión entre paréntesis es llamada el <span class=\"destacado\">argumento</span> de la función. El **resultado**, para esta función es el tipo del argumento.\n",
    "* Es común decir que la función <span class=\"destacado\">\"toma\"</span> un **argumento** y <span class=\"destacado\">\"retorna\"</span> un **resultado**."
   ]
  },
  {
   "cell_type": "markdown",
   "id": "ffdb4d5a",
   "metadata": {
    "slideshow": {
     "slide_type": "slide"
    }
   },
   "source": [
    "# Funciones matemáticas\n",
    "* El **módulo math** nos provee las funciones matemáticas más comunes. \n",
    "* Un <span class=\"destacado\">módulo</span> es un archivo que contiene una colección de funciones relacionadas. Antes de que podamos usar las funciones de un módulo, tenemos que <span class=\"destacado\">importarlo</span> con la sentencia ```import```."
   ]
  },
  {
   "cell_type": "code",
   "execution_count": 2,
   "id": "27086d33",
   "metadata": {
    "slideshow": {
     "slide_type": "fragment"
    }
   },
   "outputs": [
    {
     "name": "stdout",
     "output_type": "stream",
     "text": [
      "<module 'math' (built-in)>\n"
     ]
    }
   ],
   "source": [
    "import math\n",
    "print(math)"
   ]
  },
  {
   "cell_type": "markdown",
   "id": "ba71d59f",
   "metadata": {
    "slideshow": {
     "slide_type": "fragment"
    }
   },
   "source": [
    "* ```import math```crea un objeto de **tipo módulo** que se llama ```math```. \n",
    "* Para acceder a las funciones del módulo, se tiene que especificar el nombre del módulo y el nombre de la función, separados por el símbolo punto ```.```. "
   ]
  },
  {
   "cell_type": "code",
   "execution_count": 4,
   "id": "5b26c74c",
   "metadata": {
    "slideshow": {
     "slide_type": "fragment"
    }
   },
   "outputs": [
    {
     "name": "stdout",
     "output_type": "stream",
     "text": [
      "ratio: 4.0, decibels: 6.020599913279624, radians: 0.7, height: 0.644217687237691\n"
     ]
    }
   ],
   "source": [
    "signal_power = int(input(\"Ingrese un valor para señal: \"))\n",
    "noise_power = int(input(\"Ingrese un valor para ruido: \"))\n",
    "\n",
    "ratio = signal_power / noise_power\n",
    "decibels = 10 * math.log10(ratio)\n",
    "radians = 0.7\n",
    "height = math.sin(radians)\n",
    "\n",
    "print(f\"ratio: {ratio}, decibels: {decibels}, radians: {radians}, height: {height}\")"
   ]
  },
  {
   "cell_type": "markdown",
   "id": "0dde21ca",
   "metadata": {
    "slideshow": {
     "slide_type": "fragment"
    }
   },
   "source": [
    "* En el ejemplo usamos ```math.log10``` para computar la relación señal/ruido en decibeles. El módulo ```math``` también provee de la función ```log```, que computa logaritmos en base ```e```."
   ]
  },
  {
   "cell_type": "markdown",
   "id": "aa095395",
   "metadata": {
    "slideshow": {
     "slide_type": "slide"
    }
   },
   "source": [
    "# Creación de funciones\n",
    "* <span class=\"py\">Python</span> nos permite crear nuestras propias funciones. Una **definición de función** especifica el <span class=\"destacado\">nombre</span> para la nueva función y una secuencia de sentencias que se van a ejecutar cuando la función sea invocada. Ejemplo:"
   ]
  },
  {
   "cell_type": "code",
   "execution_count": null,
   "id": "21a8a903",
   "metadata": {
    "slideshow": {
     "slide_type": "fragment"
    }
   },
   "outputs": [],
   "source": [
    "def imprimir_letra():\n",
    "    print(\"Hey Jude, don't make it bad.\")\n",
    "    print(\"Take a sad song and make it better.\")"
   ]
  },
  {
   "cell_type": "markdown",
   "id": "846a7c38",
   "metadata": {},
   "source": [
    "* La definición de las funciones se ejecuta tal cual el resto de las sentencias, no generan ninguna salida y el efecto que tienen es crear un **objeto función**.\n",
    "* La palabra reservada que indica que comienza la definición de una función es ```def```. El nombre de la función es ```imprimir_letra```. \n",
    "* Las reglas para los nombres de función son los mismas para los nombres de variables.\n",
    "* Los paréntesis vacíos luego del nombre de la función indican que no recibe ningún argumento.\n",
    "* La primer línea de la definición de la función llama <span class=\"destacado\">cabecera</span>; el resto <span class=\"destacado\">cuerpo</span>. La **cabecera** tiene que finalizar con el carácter ```:``` (dos puntos) y el cuerpo de la función tiene que estar identado. El cuerpo puede contener cualquier número de sentencias.\n",
    "* La sintaxis para invocar funciones creadas por nosotros es la misma que para las funciones integradas.\n",
    "```imprimir_letra()```"
   ]
  },
  {
   "cell_type": "code",
   "execution_count": null,
   "id": "137dbb3f",
   "metadata": {},
   "outputs": [],
   "source": [
    "imprimir_letra()"
   ]
  },
  {
   "cell_type": "markdown",
   "id": "b1660837",
   "metadata": {
    "slideshow": {
     "slide_type": "subslide"
    }
   },
   "source": [
    "# Creación de funciones (2)\n",
    "\n",
    "* Una vez que hemos definido una función podemos usarla dentro de otras funciones. \n",
    "* Por ejemplo, para repetir la letra varias veces podemos escribir una función llamada repetir_letra:"
   ]
  },
  {
   "cell_type": "code",
   "execution_count": null,
   "id": "442c6be8",
   "metadata": {
    "slideshow": {
     "slide_type": "fragment"
    }
   },
   "outputs": [],
   "source": [
    "def repetir_letra():\n",
    "    imprimir_letra()\n",
    "    imprimir_letra()\n",
    "    \n",
    "# Y luego llamar a la función repetir_letra:\n",
    "repetir_letra()"
   ]
  },
  {
   "cell_type": "markdown",
   "id": "6b84f655",
   "metadata": {
    "slideshow": {
     "slide_type": "slide"
    }
   },
   "source": [
    "# Parámetros y argumentos\n",
    "* Existen funciones que requieren un argumento. Por ejemplo, cuando llamamos a la función ```math.sin``` pasamos un número como argumento.\n",
    "* Otras funciones requieren más de un argumento. Por ejemplo, ```math.pow```, necesita base y exponente.\n",
    "* Dentro de la función, los argumentos son asignados a variables que se llaman <span class=\"destacado\">parámetros</span>. \n",
    "* Los **argumentos y parámetros** se los llaman <span class=\"destacado\">parámetros actuales y formales</span> respectivamente.\n",
    "* Aquí la definición de una función que acepta argumentos:"
   ]
  },
  {
   "cell_type": "code",
   "execution_count": null,
   "id": "92af4436",
   "metadata": {
    "slideshow": {
     "slide_type": "fragment"
    }
   },
   "outputs": [],
   "source": [
    "def imprimir_dos_veces(nombre):\n",
    "    \"\"\"\n",
    "        La función asigna el argumento a un parámetro que se llama nombre. \n",
    "        Cuando la función es invocada, imprime el valor del parámetro dos veces. \n",
    "        Funciona con cualquier valor que pueda imprimirse por pantalla.\n",
    "    \"\"\"\n",
    "    print(nombre)\n",
    "    print(nombre)\n"
   ]
  },
  {
   "cell_type": "markdown",
   "id": "a7319ff4",
   "metadata": {},
   "source": [
    "# Alcance de variables y parámetros\n",
    "* Cuando creamos una variable dentro de una función su alcance es local, esto quiere decir que solo existe dentro de la función. Por ejemplo:"
   ]
  },
  {
   "cell_type": "code",
   "execution_count": null,
   "id": "0ec1acee",
   "metadata": {
    "slideshow": {
     "slide_type": "fragment"
    }
   },
   "outputs": [],
   "source": [
    "def concat_imprimir(part1, part2):\n",
    "    \"\"\"\n",
    "    Esta función toma dos argumentos, los concatena, e imprime los resultados dos veces\n",
    "    \"\"\"\n",
    "    cat = part1 + part2\n",
    "    imprimir_dos_veces(cat)\n",
    "\n",
    "linea1 = input(\"Escriba un texto: \")\n",
    "linea2 = input(\"Escriba otro texto: \")\n",
    "concat_imprimir(linea1, linea2)"
   ]
  },
  {
   "cell_type": "markdown",
   "id": "d97eed40",
   "metadata": {
    "slideshow": {
     "slide_type": "fragment"
    }
   },
   "source": [
    "* Los parámetros son locales a la función. Cuando ```concat_imprimir``` termina, la variable ```cat``` es destruida. Si intentamos imprimir su valor obtendremos una excepción:"
   ]
  },
  {
   "cell_type": "code",
   "execution_count": null,
   "id": "652be585",
   "metadata": {},
   "outputs": [],
   "source": [
    "print(cat)"
   ]
  },
  {
   "cell_type": "markdown",
   "id": "2929a38a",
   "metadata": {
    "slideshow": {
     "slide_type": "slide"
    }
   },
   "source": [
    "# Bibliografía \n",
    "* Óscar Ramírez Jiménez: *\"Python a fondo\"* 1era Edición. Editorial Marcombo S.L.. 2021.\n",
    "* Allen Downey. *\"Think Python\"*. 2da Edición. Editorial Green Tea Press. 2015.\n",
    "* Bill Lubanovic. *\"Introducing Python\". 2da Edición. O’ Reilly. 2020.\n",
    "* Eirc Matthes: *\"Python Crash Course\"*. 1era Edición. Editorial No Starch Press. 2016.\n",
    "* Zed A. Shaw: *\"Learn Python 3 the Hard Way\"*. 1era Edición. Editorial Addison-Wesley. 2017.\n",
    "* Web - John Sturtz: *Python \"for\" Loops (Definite Iteration)*. <a href=\"https://realpython.com/python-for-loop/\">Enlace</a>. "
   ]
  }
 ],
 "metadata": {
  "kernelspec": {
   "display_name": "Python 3 (ipykernel)",
   "language": "python",
   "name": "python3"
  },
  "language_info": {
   "codemirror_mode": {
    "name": "ipython",
    "version": 3
   },
   "file_extension": ".py",
   "mimetype": "text/x-python",
   "name": "python",
   "nbconvert_exporter": "python",
   "pygments_lexer": "ipython3",
   "version": "3.11.3"
  },
  "rise": {
   "enable_chalkboard": true,
   "scroll": true,
   "theme": "simple",
   "transition": "slide"
  },
  "widgets": {
   "application/vnd.jupyter.widget-state+json": {
    "state": {},
    "version_major": 2,
    "version_minor": 0
   }
  }
 },
 "nbformat": 4,
 "nbformat_minor": 5
}
