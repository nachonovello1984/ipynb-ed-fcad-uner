{
 "cells": [
  {
   "cell_type": "markdown",
   "id": "213b8c3e-9aa0-4abb-947c-3b570b72d202",
   "metadata": {
    "editable": false,
    "slideshow": {
     "slide_type": "slide"
    },
    "tags": []
   },
   "source": [
    "<div class=\"portada\">\n",
    "    <img src=\"assets/fcad-70.png\" alt=\"Texto alternativo\"  alt=\"Facultad de Ciencias de la Administración - UNER\" style=\"display: inline; width:50%; max-width: 450px;\"/>\n",
    "    <h1>Unidad 1: Introducción a Estructuras de Datos</h1>\n",
    "    <h3>Estructuras de Datos</h3>\n",
    "    <h4>Facultad de Ciencias de la Administración - UNER</h4>\n",
    "</div>"
   ]
  },
  {
   "cell_type": "code",
   "execution_count": 1,
   "id": "44d46d81",
   "metadata": {},
   "outputs": [
    {
     "name": "stdout",
     "output_type": "stream",
     "text": [
      "PRIMER CUATRIMESTRE DE 2024 😎\n"
     ]
    }
   ],
   "source": [
    "from datetime import datetime\n",
    "print(f\"{'PRIMER' if datetime.now().month < 7 else 'SEGUNDO'} CUATRIMESTRE DE {datetime.now().year} 😎\")"
   ]
  },
  {
   "cell_type": "markdown",
   "id": "e1eddf1b-a283-4327-baee-42f0580ae8c4",
   "metadata": {
    "editable": false,
    "slideshow": {
     "slide_type": "slide"
    },
    "tags": []
   },
   "source": [
    "# Objetivos\n",
    "* Identificar las distintas alternativas de las que se dispone para controlar el flujo de ejecución de programas.\n",
    "* Entender como hacer combinaciones de las mismas.\n",
    "## Temas a desarrollar:\n",
    "* Ejecución Secuencial de sentencias. \n",
    "* Estructuras de control condicionales: ```if```, ```elif```, ```else```, ```match```. \n",
    "* Estructuras de control iterativas: ```while```, ```for```, ```for in range```, ```break```, ```continue```. "
   ]
  },
  {
   "cell_type": "markdown",
   "id": "144705c6-cc1c-4cfc-8367-9df441943f4e",
   "metadata": {
    "editable": false,
    "slideshow": {
     "slide_type": "slide"
    },
    "tags": []
   },
   "source": [
    "# Estructuras de control\n",
    "- Una <span class=\"destacado\">estructura de control</span> es una sentencia de control y las sentencias cuya ejecución ésta controla.\n",
    "- Es un bloque de código que permite **agrupar** instrucciones de manera controlada.\n",
    "- Todos los lenguajes de programación tienen un conjunto mínimo de instrucciones que permiten especificar el control propio del algoritmo que se requiere implementar. \n",
    "    - Este conjunto mínimo debe contener estructuras para la <span class=\"destacado\">Secuencia, Decisión, Selección e Iteración</span>.\n"
   ]
  },
  {
   "cell_type": "markdown",
   "id": "a3bc0d34",
   "metadata": {
    "slideshow": {
     "slide_type": "slide"
    }
   },
   "source": [
    "# Secuencia\n",
    "- La estructura de control más simple está representada por una sucesión de instrucciones (por ejemplo asignaciones), en la que el **orden de ejecución coincide con el orden físico de aparición de las instrucciones**.\n",
    "- La implementación de la estructura de control secuencia se logra simplemente ubicando **una instrucción debajo de la anterior**."
   ]
  },
  {
   "cell_type": "markdown",
   "id": "625892ac-a8c9-4785-8208-e54bcab7d241",
   "metadata": {
    "editable": false,
    "slideshow": {
     "slide_type": "subslide"
    },
    "tags": []
   },
   "source": [
    "# Decisión - Ejecución condicional\n",
    "- Cuando programamos, casi siempre necesitamos controlar condiciones y cambiar el comportamiento del programa de acuerdo a si se cumplen o no. Las estructuras de control condicionales nos dan esta habilidad. "
   ]
  },
  {
   "cell_type": "code",
   "execution_count": null,
   "id": "36d4beae",
   "metadata": {
    "slideshow": {
     "slide_type": "fragment"
    }
   },
   "outputs": [],
   "source": [
    "x = int(input(\"Ingrese un número: \"))\n",
    "if x > 0:\n",
    " \tprint(\"x es positivo\")"
   ]
  },
  {
   "cell_type": "markdown",
   "id": "8ed350d1",
   "metadata": {
    "slideshow": {
     "slide_type": "fragment"
    }
   },
   "source": [
    "- La **expresión booleana** después de la palabra reservada ```if``` es llamada <span class=\"destacado\">condición</span>. Si es ```True``` (verdadero), la sentencia identada que le sigue se ejecuta. Caso contrario, nada sucede.\n",
    "- El ```if``` tiene un encabezado seguido por un cuerpo identado. Las sentencias como esta se llaman <span class=\"destacado\">declaraciones compuestas</span>.\n",
    "    - No hay límite para el número de sentencias que pueden aparecer en el cuerpo de un bloque ```if```, pero tiene que ser al menos una. \n",
    "    - Ocasionalmente, es útil tener un cuerpo sin sentencias (para guardar espacio para algo que vamos a agregar más tarde). \n",
    "    - En ese caso, podemos escribir la palabra reservada ```pass``` que no hace nada."
   ]
  },
  {
   "cell_type": "code",
   "execution_count": null,
   "id": "d2497e7d",
   "metadata": {
    "slideshow": {
     "slide_type": "fragment"
    }
   },
   "outputs": [],
   "source": [
    "if x < 0:\n",
    " \tpass # Aquí falta manejar qué pasa cuando x es menor que 0."
   ]
  },
  {
   "cell_type": "markdown",
   "id": "ffdb4d5a",
   "metadata": {
    "slideshow": {
     "slide_type": "slide"
    }
   },
   "source": [
    "# Ejecución alternativa\n",
    "* Una segunda forma de la sentencia ```if``` es la ejecución alternativa, donde hay dos posibilidades y una condición que determina cuál se ejecuta. \n",
    "* La sintaxis es así:"
   ]
  },
  {
   "cell_type": "code",
   "execution_count": null,
   "id": "5b26c74c",
   "metadata": {
    "slideshow": {
     "slide_type": "fragment"
    }
   },
   "outputs": [],
   "source": [
    "x = int(input(\"Ingrese un número: \"))\n",
    "if x % 2 == 0:\n",
    "    print (\"x es par\")\n",
    "else:\n",
    "    print(\"x es impar\")"
   ]
  },
  {
   "cell_type": "markdown",
   "id": "0dde21ca",
   "metadata": {
    "slideshow": {
     "slide_type": "fragment"
    }
   },
   "source": [
    "* El resto de la división entera de ```x``` por ```2``` es ```0``` cuando ```x``` es par. \n",
    "* En caso que la condición sea ```False``` (falso), el segundo conjunto de sentencias se ejecuta.\n",
    "*  Dado que la condición debe ser ```True``` o ```False```, exactamente una de las alternativas se ejecuta. Las alternativas son llamadas ramas, porque como si fueran ramas donde se bifurca el flujo de ejecución."
   ]
  },
  {
   "cell_type": "markdown",
   "id": "aa095395",
   "metadata": {
    "slideshow": {
     "slide_type": "slide"
    }
   },
   "source": [
    "# Condiciones encadenadas\n",
    "* A veces hay más de dos posibilidades y necesitamos <span class=\"destacado\">más de dos ramas</span>. Una forma de expresar un cómputo de este tipo es encadenar condiciones."
   ]
  },
  {
   "cell_type": "code",
   "execution_count": null,
   "id": "adef8fae",
   "metadata": {
    "slideshow": {
     "slide_type": "fragment"
    }
   },
   "outputs": [],
   "source": [
    "x = int(input(\"Ingrese un número para asignar a x: \"))\n",
    "y = int(input(\"Ingrese un número para asignar a y: \"))\n",
    "if x < y:\n",
    "    print (\"x es menor que y\")\n",
    "elif x > y:\n",
    "    print (\"x es mayor que y\")\n",
    "else:\n",
    "    print(\"x e y son iguales\")"
   ]
  },
  {
   "cell_type": "markdown",
   "id": "a50f65a5",
   "metadata": {
    "slideshow": {
     "slide_type": "fragment"
    }
   },
   "source": [
    "* ```elif``` es una abreviación de **\"else if\"**. \n",
    "* Otra vez, exactamente sólo una de las ramas se va a ejecutar. \n",
    "* No hay límite para la cantidad de sentencias que pueden aparecer dentro de un bloque ```elif```. \n",
    "* Si hay una cláusula ```else```, tiene que estar al final, no es obligatorio que exista."
   ]
  },
  {
   "cell_type": "markdown",
   "id": "b5644d52",
   "metadata": {
    "slideshow": {
     "slide_type": "slide"
    }
   },
   "source": [
    "# Condiciones encadenadas (2)"
   ]
  },
  {
   "cell_type": "code",
   "execution_count": null,
   "id": "c0c32b96",
   "metadata": {},
   "outputs": [],
   "source": [
    "def dibujar_a():\n",
    "    print(\"dibujar_a()\")\n",
    "def dibujar_b():\n",
    "    print(\"dibujar_b()\")\n",
    "def dibujar_c():\n",
    "    print(\"dibujar_c()\")"
   ]
  },
  {
   "cell_type": "code",
   "execution_count": null,
   "id": "4159bbca",
   "metadata": {
    "slideshow": {
     "slide_type": "fragment"
    }
   },
   "outputs": [],
   "source": [
    "opcion = input(\"Seleccione una opción: a, b, c: \")    \n",
    "if opcion == \"a\":\n",
    "    dibujar_a()\n",
    "elif opcion == \"b\":\n",
    "    dibujar_b()\n",
    "elif opcion == \"c\":\n",
    "    dibujar_c()\n"
   ]
  },
  {
   "cell_type": "markdown",
   "id": "3d224f11",
   "metadata": {
    "slideshow": {
     "slide_type": "slide"
    }
   },
   "source": [
    "# Condiciones anidadas\n",
    "* Un condicional puede ser también anidado dentro de otro. Podemos escribir el ejemplo anterior de esta forma:"
   ]
  },
  {
   "cell_type": "code",
   "execution_count": null,
   "id": "8f22446b",
   "metadata": {
    "slideshow": {
     "slide_type": "fragment"
    }
   },
   "outputs": [],
   "source": [
    "if x == y:\n",
    "    print(\"x e y son iguales\")\n",
    "else:\n",
    "    if x < y:\n",
    "        print (\"x es menor que y\")\n",
    "    else:\n",
    "        print(\"x es mayor que y\")"
   ]
  },
  {
   "cell_type": "markdown",
   "id": "9b4ab015",
   "metadata": {
    "slideshow": {
     "slide_type": "fragment"
    }
   },
   "source": [
    "* El condicional exterior contiene dos ramas. La primera contiene una única sentencia simple. La segunda contiene otra sentencia ```if``` que tiene sus propias dos ramas.\n",
    "* Esas dos ramas son también sentencias simples, sin embargo, podrían haber sido sentencias condicionales también.\n",
    "* Puede parecernos que la identanción de las sentencias hace fácil de leer la estructura, pero los condicionales anidados se vuelven difíciles de leer muy rápido. Es una buena idea evitarlos lo más que podamos."
   ]
  },
  {
   "cell_type": "markdown",
   "id": "21ab1a0a",
   "metadata": {
    "slideshow": {
     "slide_type": "slide"
    }
   },
   "source": [
    "# Condiciones anidadas (2)\n",
    "* Los operadores lógicos pueden ser una solución para evitar los condicionales anidados. Por ejemplo, podemos reescribir el siguiente código usando un condicional simple:"
   ]
  },
  {
   "cell_type": "code",
   "execution_count": null,
   "id": "b3e654d1",
   "metadata": {
    "slideshow": {
     "slide_type": "fragment"
    }
   },
   "outputs": [],
   "source": [
    "x = int(input(\"Ingrese un valor para x: \"))\n",
    "if 0 < x:\n",
    " \tif x < 10:\n",
    " \t \tprint(\"x es un número positivo de un sólo dígito\")"
   ]
  },
  {
   "cell_type": "markdown",
   "id": "d525967c",
   "metadata": {},
   "source": [
    "* La instrucción ```print``` se ejecuta sólo si pasamos las dos condiciones, así que podemos obtener el mismo efecto utilizando un operador ```and```:"
   ]
  },
  {
   "cell_type": "code",
   "execution_count": null,
   "id": "4997dca8",
   "metadata": {
    "slideshow": {
     "slide_type": "fragment"
    }
   },
   "outputs": [],
   "source": [
    "if 0 < x and x < 10:\n",
    " \tprint (\"x es un número positivo de un sólo dígito\")"
   ]
  },
  {
   "cell_type": "markdown",
   "id": "9f6555cb",
   "metadata": {},
   "source": [
    "* Para este tipo de condiciones, <span class=\"py\">Python</span> provee una opción más concisa: "
   ]
  },
  {
   "cell_type": "code",
   "execution_count": null,
   "id": "c9c39e58",
   "metadata": {},
   "outputs": [],
   "source": [
    "if 0 < x < 10:\n",
    " \tprint (\"x es un número positivo de un sólo dígito\")"
   ]
  },
  {
   "cell_type": "markdown",
   "id": "61df7559",
   "metadata": {
    "slideshow": {
     "slide_type": "slide"
    }
   },
   "source": [
    "# Operador ternario\n",
    "* El <span class=\"destacado\">operador ternario</span> es una herramienta muy potente que muchos lenguajes de programación tienen. \n",
    "* En <span class=\"py\">Python</span> es un poco distinto a lo que sería en los lenguajes de la familia de **C**, pero el concepto es el mismo. \n",
    "* Se trata de una cláusula ```if```, ```else``` que se define en una sola línea utilizada que retorna un valor si se cumple una condición y otro en caso que no se cumpla.\n",
    "* En vez de escribir:"
   ]
  },
  {
   "cell_type": "code",
   "execution_count": null,
   "id": "6103c0a1",
   "metadata": {
    "slideshow": {
     "slide_type": "fragment"
    }
   },
   "outputs": [],
   "source": [
    "a = 10\n",
    "b = 10\n",
    "# Muchas líneas...\n",
    "# if b != 0:\n",
    "#     c = a / b\n",
    "# else: \n",
    "#     c = -1\n",
    "# Con operador ternario:\n",
    "c = a/b if b != 0 else -1"
   ]
  },
  {
   "cell_type": "markdown",
   "id": "749e1ca8",
   "metadata": {
    "slideshow": {
     "slide_type": "slide"
    }
   },
   "source": [
    "# Selección - Múltiples alternativas con match\n",
    "* En este tipo de **estructuras de control** se nos permite ejecutar diferentes secciones de código dependiendo de una condición.\n",
    "* La sentencia de control ```match/case``` toma un objeto y verifica si coincide con uno o más patrones. Por último lleva a cabo una acción si se encontraron coincidencias.\n",
    "* Por ejemplo:"
   ]
  },
  {
   "cell_type": "code",
   "execution_count": null,
   "id": "1f9b6b75",
   "metadata": {
    "slideshow": {
     "slide_type": "fragment"
    }
   },
   "outputs": [],
   "source": [
    "x = int(input(\"Ingrese un valor para x: \"))\n",
    "match x:\n",
    "    case 1: \n",
    "        print(\"Seleccionó 1\")\n",
    "    case 2:\n",
    "        print(\"Seleccionó 2\")\n",
    "    case _:\n",
    "        print(\"No entró en ninguno\")"
   ]
  },
  {
   "cell_type": "markdown",
   "id": "a36914c9",
   "metadata": {
    "slideshow": {
     "slide_type": "fragment"
    }
   },
   "source": [
    "* Donde si el valor de ```x``` coincide con el de uno de los valores que siguen a la palabra reservada ```case```, entonces, las sentencias dentro del bloque ```case``` se ejecutan.\n",
    "El símbolo ```_``` al final, es un comodín, se seleccionará en caso que no existan coincidencias con los valores expresados en las entradas ```case``` previas."
   ]
  },
  {
   "cell_type": "markdown",
   "id": "74d3092f",
   "metadata": {
    "slideshow": {
     "slide_type": "slide"
    }
   },
   "source": [
    "# Repetición / Iteración\n",
    "* Se llama <span class=\"destacado\">iteración</span> a la habilitad de ejecutar un bloque de sentencias de manera repetida.\n",
    "* Hay dos tipos de iteraciones:\n",
    "    * **Iteración indefinida**: el bloque de código se ejecuta hasta que se cumple alguna condición. En <span class=\"py\">Python</span> con un bucle ```while```.\n",
    "    * **Iteración definida**: el número de repeticiones se especifica explícitamente de antemano. En <span class=\"py\">Python</span> con un bucle ```for```."
   ]
  },
  {
   "cell_type": "markdown",
   "id": "f694e471",
   "metadata": {
    "slideshow": {
     "slide_type": "slide"
    }
   },
   "source": [
    "# Bloque while\n",
    "* Usando un ```while``` podemos hacer una cuenta descendente de números:"
   ]
  },
  {
   "cell_type": "code",
   "execution_count": null,
   "id": "369d59cd",
   "metadata": {
    "slideshow": {
     "slide_type": "fragment"
    }
   },
   "outputs": [],
   "source": [
    "def cuenta_descendente(n):\n",
    "    while n > 0:\n",
    "        print (n)\n",
    "        n = n - 1\n",
    "    print (\"It's the final countdown!!! Tarata taaaaa!!!\")\n",
    "\n",
    "cuenta_descendente(10)"
   ]
  },
  {
   "cell_type": "markdown",
   "id": "d9dea688",
   "metadata": {
    "slideshow": {
     "slide_type": "fragment"
    }
   },
   "source": [
    "\n",
    "* Casi que se puede leer la instrucción ```while``` como que si fuese en inglés: \n",
    "    * *\"Mientras n sea mayor que 0 mostrar el valor de n y luego decrementar n. Cuando se llegue a 0 mostrar It's the final countdown\"*."
   ]
  },
  {
   "cell_type": "markdown",
   "id": "5260fd36",
   "metadata": {
    "slideshow": {
     "slide_type": "subslide"
    }
   },
   "source": [
    "# Bloque while (2)\n",
    "* Más formalmente, aquí el flujo de ejecución del bloque while:\n",
    "    1. Determinar si la condición es verdadera o falsa.\n",
    "    2. Si es falsa, salir del ```while``` y continuar con la ejecución de la siguiente sentencia.\n",
    "    3. Si la condición es verdadera, ejecutar el cuerpo y luego volver al paso 1.\n",
    "* El tipo de flujo es llamado bucle porque el tercer paso vuelve hacia atrás al primer paso.\n",
    "* El cuerpo del bucle <span class=\"destacado\">tiene que cambiar el valor de una o más variables</span> para que la **condición** se vuelva **falsa** en algún momento y **termine el bucle**. \n",
    "* En caso que no fuese así, el bucle se repetirá por siempre, lo que se llama **bucle infinito**. "
   ]
  },
  {
   "cell_type": "markdown",
   "id": "6d0caa65",
   "metadata": {
    "slideshow": {
     "slide_type": "slide"
    }
   },
   "source": [
    "# Rangos o range\n",
    "* Los <span class=\"destacado\">rangos</span> son secuencias de números enteros no modificables predefinidas. Se crean utilizando la función ```range```, que también determina el tipo de dato.\n",
    "* Así ```range (4)``` genera la siguiente salida:"
   ]
  },
  {
   "cell_type": "code",
   "execution_count": null,
   "id": "a5a4548c",
   "metadata": {
    "slideshow": {
     "slide_type": "fragment"
    }
   },
   "outputs": [],
   "source": [
    "print(list(range(4))) # después vemos que es list()"
   ]
  },
  {
   "cell_type": "markdown",
   "id": "d39ea14c",
   "metadata": {
    "slideshow": {
     "slide_type": "fragment"
    }
   },
   "source": [
    "* Un rango genera una secuencia de números que van desde ```0``` por defecto hasta el número que se pasa como parámetro menos ```1```.\n",
    "    * En realidad, se pueden pasar **hasta tres parámetros** separados por coma, donde el primero es el inicio de la secuencia, el segundo el final y el tercero el salto que se desea entre números. \n",
    "    * Por defecto se empieza en ```0``` y el salto es de ```1```. Cabe destacar que los índices pueden ser negativos y tan grandes como se desee.\n",
    "* Por lo tanto, si hacemos ```range(5,20,2)```, se generarán números de ```5``` a ```19``` de dos en dos. "
   ]
  },
  {
   "cell_type": "markdown",
   "id": "9e3c5493",
   "metadata": {
    "slideshow": {
     "slide_type": "subslide"
    }
   },
   "source": [
    "# Rangos o range (2)\n",
    "* Los rangos son inmutables y presentan la gran ventaja de que son iteradores (concepto que veremos más adelante en profundidad), por lo que, cuando se crean, no guardan la información que representan, sino el procedimiento necesario para generar la secuencia de números. \n",
    "    * Esto hace que ocupen muy poco espacio y permitan controlar la memoria utilizada en los programas, ya que van generando los valores de uno en uno y no todos a la vez."
   ]
  },
  {
   "cell_type": "markdown",
   "id": "5b81e025",
   "metadata": {
    "slideshow": {
     "slide_type": "subslide"
    }
   },
   "source": [
    "# Rangos o range (3)\n",
    "* Se puede acceder a un elemento en concreto del rango utilizando un índice y usar operaciones como ```len()``` o ```in``` e incluso usar selecciones de subsecuencias."
   ]
  },
  {
   "cell_type": "code",
   "execution_count": null,
   "id": "03eb6358",
   "metadata": {
    "slideshow": {
     "slide_type": "fragment"
    }
   },
   "outputs": [],
   "source": [
    "rango = range (0, 24, 2)\n",
    "print(rango)\n",
    "print(\"8 in rango: \", 8 in rango)\n",
    "print(\"7 in rango: \", 7 in rango)\n",
    "print(rango[3])"
   ]
  },
  {
   "cell_type": "markdown",
   "id": "4a44be82",
   "metadata": {
    "slideshow": {
     "slide_type": "slide"
    }
   },
   "source": [
    "# Bucle for\n",
    "* El bucle for de <span class=\"py\">Python</span> tiene algunas particularidades comparado con otros lenguajes de comparación.\n",
    "* El ```for``` es un tipo de bucle, similar al ```while``` pero con ciertas diferencias. \n",
    "* La principal es que el número de iteraciones de un ```for``` esta definido de antemano, mientras que en un ```while``` no.\n",
    "* En un bucle ```while``` la condición es evaluada en cada iteración para decidir si volver a ejecutar o no el código, en el ```for``` no existe tal condición, sino un iterable que define las veces que se ejecutará el código. \n",
    "* En el siguiente ejemplo vemos un bucle ```for``` que se ejecuta ```5``` veces, y donde la variable ```i``` incrementa en cada iteración su valor en ```1```."
   ]
  },
  {
   "cell_type": "code",
   "execution_count": null,
   "id": "1a7232e3",
   "metadata": {
    "slideshow": {
     "slide_type": "fragment"
    }
   },
   "outputs": [],
   "source": [
    "for i in range(0, 5):\n",
    "    print(i)"
   ]
  },
  {
   "cell_type": "markdown",
   "id": "6cfcd61a",
   "metadata": {
    "slideshow": {
     "slide_type": "subslide"
    }
   },
   "source": [
    "# Bucle for (2) \n",
    "* Es preferible utilizar un bucle ```for``` (en vez de ```while```) cuando la cantidad de iteraciones se conoce de antemano o está definida por las dimensiones de un tipo de datos que soporte operaciones de iteración.\n",
    "* En <span class=\"py\">Python</span> se puede iterar prácticamente todo, como por ejemplo un str. En el siguiente ejemplo vemos como ```i``` va tomando los valores de cada letra:"
   ]
  },
  {
   "cell_type": "code",
   "execution_count": null,
   "id": "30bb951b",
   "metadata": {
    "slideshow": {
     "slide_type": "fragment"
    }
   },
   "outputs": [],
   "source": [
    "for i in \"Python\":\n",
    "    print(i)"
   ]
  },
  {
   "cell_type": "markdown",
   "id": "276a5dd7",
   "metadata": {
    "slideshow": {
     "slide_type": "slide"
    }
   },
   "source": [
    "# Break\n",
    "* A veces se ejecutan algunas iteraciones de un bucle y nos damos cuenta que no es necesario seguir con las siguientes. En estas situaciones la sentencia ```break``` hace que la ejecución continúe inmediatamente después del bucle.\n",
    "* Por ejemplo, queremos capturar los datos ingresados por el usuario hasta que escriba **listo**. Podríamos escribir:"
   ]
  },
  {
   "cell_type": "code",
   "execution_count": null,
   "id": "ab50aff1",
   "metadata": {
    "slideshow": {
     "slide_type": "fragment"
    }
   },
   "outputs": [],
   "source": [
    "while True:\n",
    "    linea = input('Ingrese un texto o listo para terminar: ')\n",
    "    if linea == 'listo':\n",
    "        break\n",
    "    print(linea)\n",
    "    print('Listo!')"
   ]
  },
  {
   "cell_type": "markdown",
   "id": "0164bee6",
   "metadata": {
    "slideshow": {
     "slide_type": "fragment"
    }
   },
   "source": [
    "* La condición del bucle es ```True```, por tanto siempre se va a cumplir. El bucle se ejecuta hasta que llega la sentencia ```break```.\n",
    "* Esta forma de programar los bucles ```while``` es común porque podemos controlar si una condición se cumple en cualquier lugar dentro del bucle (no solo al principio) y podemos expresar que se detenga afirmativamente (*\"Frená si pasa esto!\"*) en vez de negativamente (*\"Hacé esto hasta que pase aquello\"*)."
   ]
  },
  {
   "cell_type": "markdown",
   "id": "7836fc27",
   "metadata": {
    "slideshow": {
     "slide_type": "slide"
    }
   },
   "source": [
    "# Continue\n",
    "* La palabra reservada ```continue``` nos permite terminar la iteración actual y continuar con la siguiente. \n",
    "* Por ejemplo:"
   ]
  },
  {
   "cell_type": "code",
   "execution_count": null,
   "id": "67248add",
   "metadata": {
    "slideshow": {
     "slide_type": "fragment"
    }
   },
   "outputs": [],
   "source": [
    "for i in \"Python\":\n",
    "    if i == \"t\":\n",
    "        continue\n",
    "    print(i)"
   ]
  },
  {
   "cell_type": "markdown",
   "id": "2929a38a",
   "metadata": {
    "slideshow": {
     "slide_type": "slide"
    }
   },
   "source": [
    "# Bibliografía \n",
    "* Óscar Ramírez Jiménez: *\"Python a fondo\"* 1era Edición. Editorial Marcombo S.L.. 2021.\n",
    "* Allen Downey. *\"Think Python\"*. 2da Edición. Editorial Green Tea Press. 2015.\n",
    "* Bill Lubanovic. *\"Introducing Python\". 2da Edición. O’ Reilly. 2020.\n",
    "* Eirc Matthes: *\"Python Crash Course\"*. 1era Edición. Editorial No Starch Press. 2016.\n",
    "* Zed A. Shaw: *\"Learn Python 3 the Hard Way\"*. 1era Edición. Editorial Addison-Wesley. 2017.\n",
    "* Web - John Sturtz: *Python \"for\" Loops (Definite Iteration)*. <a href=\"https://realpython.com/python-for-loop/\">Enlace</a>. "
   ]
  }
 ],
 "metadata": {
  "kernelspec": {
   "display_name": "Python 3 (ipykernel)",
   "language": "python",
   "name": "python3"
  },
  "language_info": {
   "codemirror_mode": {
    "name": "ipython",
    "version": 3
   },
   "file_extension": ".py",
   "mimetype": "text/x-python",
   "name": "python",
   "nbconvert_exporter": "python",
   "pygments_lexer": "ipython3",
   "version": "3.11.3"
  },
  "rise": {
   "enable_chalkboard": true,
   "scroll": true,
   "theme": "simple",
   "transition": "slide"
  },
  "widgets": {
   "application/vnd.jupyter.widget-state+json": {
    "state": {},
    "version_major": 2,
    "version_minor": 0
   }
  }
 },
 "nbformat": 4,
 "nbformat_minor": 5
}
