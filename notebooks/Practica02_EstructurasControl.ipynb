{
 "cells": [
  {
   "cell_type": "markdown",
   "id": "213b8c3e-9aa0-4abb-947c-3b570b72d202",
   "metadata": {
    "editable": false,
    "slideshow": {
     "slide_type": "slide"
    },
    "tags": []
   },
   "source": [
    "<div class=\"portada\">\n",
    "    <img src=\"assets/fcad-70.png\" alt=\"Texto alternativo\"  alt=\"Facultad de Ciencias de la Administración - UNER\" style=\"display: inline; width:50%; max-width: 450px;\"/>\n",
    "    <h1>Unidad 1: Introducción a Estructuras de Datos</h1>\n",
    "    <h3>Estructuras de Datos</h3>\n",
    "    <h4>Facultad de Ciencias de la Administración - UNER</h4>\n",
    "</div>"
   ]
  },
  {
   "cell_type": "code",
   "execution_count": 3,
   "id": "44d46d81",
   "metadata": {},
   "outputs": [
    {
     "name": "stdout",
     "output_type": "stream",
     "text": [
      "PRIMER CUATRIMESTRE DE 2024 😎\n"
     ]
    }
   ],
   "source": [
    "from datetime import datetime\n",
    "print(f\"{'PRIMER' if datetime.now().month < 7 else 'SEGUNDO'} CUATRIMESTRE DE {datetime.now().year} 😎\")"
   ]
  },
  {
   "cell_type": "markdown",
   "id": "e1eddf1b-a283-4327-baee-42f0580ae8c4",
   "metadata": {
    "editable": false,
    "slideshow": {
     "slide_type": "slide"
    },
    "tags": []
   },
   "source": [
    "# Objetivos\n",
    "* Identificar las distintas alternativas de las que se dispone para controlar el flujo de ejecución de programas.\n",
    "* Entender como hacer combinaciones de las mismas.\n",
    "* Comprender cómo pueden diseñarse/documentarse algoritmos a través de diagramas."
   ]
  },
  {
   "cell_type": "markdown",
   "id": "4d66a3ce",
   "metadata": {
    "slideshow": {
     "slide_type": "subslide"
    }
   },
   "source": [
    "## Temas a desarrollar:\n",
    "* Ejecución Secuencial de sentencias. \n",
    "* Estructuras de control condicionales: ```if```, ```elif```, ```else```, ```match```. \n",
    "* Estructuras de control iterativas: ```while```, ```for```, ```for in range```, ```break```, ```continue```. "
   ]
  },
  {
   "cell_type": "markdown",
   "id": "144705c6-cc1c-4cfc-8367-9df441943f4e",
   "metadata": {
    "editable": false,
    "slideshow": {
     "slide_type": "slide"
    },
    "tags": []
   },
   "source": [
    "# Estructuras de control\n",
    "- Una <span class=\"destacado\">estructura de control</span> es una sentencia de control y las sentencias cuya ejecución ésta controla.\n",
    "- Es un bloque de código que permite **agrupar** instrucciones de manera controlada.\n",
    "- Todos los lenguajes de programación tienen un conjunto mínimo de instrucciones que permiten especificar el control propio del algoritmo que se requiere implementar. \n",
    "    - Este conjunto mínimo debe contener estructuras para la <span class=\"destacado\">Secuencia, Decisión, Selección e Iteración</span>.\n"
   ]
  },
  {
   "cell_type": "markdown",
   "id": "a3bc0d34",
   "metadata": {
    "slideshow": {
     "slide_type": "slide"
    }
   },
   "source": [
    "## Secuencia\n",
    "- La estructura de control más simple está representada por una sucesión de instrucciones (por ejemplo asignaciones), en la que el **orden de ejecución coincide con el orden físico de aparición de las instrucciones**.\n",
    "- La implementación de la estructura de control secuencia se logra simplemente ubicando **una instrucción debajo de la anterior**."
   ]
  },
  {
   "cell_type": "markdown",
   "id": "625892ac-a8c9-4785-8208-e54bcab7d241",
   "metadata": {
    "editable": false,
    "slideshow": {
     "slide_type": "subslide"
    },
    "tags": []
   },
   "source": [
    "## Decisión - Ejecución condicional\n",
    "- Cuando programamos, casi siempre necesitamos controlar condiciones y cambiar el comportamiento del programa de acuerdo a si se cumplen o no. Las estructuras de control condicionales nos dan esta habilidad. "
   ]
  },
  {
   "cell_type": "code",
   "execution_count": null,
   "id": "36d4beae",
   "metadata": {
    "slideshow": {
     "slide_type": "fragment"
    }
   },
   "outputs": [],
   "source": [
    "x = int(input(\"Ingrese un número: \"))\n",
    "if x > 0:\n",
    " \tprint(\"x es positivo\")"
   ]
  },
  {
   "cell_type": "markdown",
   "id": "8ed350d1",
   "metadata": {
    "slideshow": {
     "slide_type": "fragment"
    }
   },
   "source": [
    "- La **expresión booleana** después de la palabra reservada ```if``` es llamada <span class=\"destacado\">condición</span>. Si es ```True``` (verdadero), la sentencia identada que le sigue se ejecuta. Caso contrario, nada sucede.\n",
    "- El ```if``` tiene un encabezado seguido por un cuerpo identado. Las sentencias como esta se llaman <span class=\"destacado\">declaraciones compuestas</span>.\n",
    "    - No hay límite para el número de sentencias que pueden aparecer en el cuerpo de un bloque ```if```, pero tiene que ser al menos una. \n",
    "    - Ocasionalmente, es útil tener un cuerpo sin sentencias (para guardar espacio para algo que vamos a agregar más tarde). \n",
    "    - En ese caso, podemos escribir la palabra reservada ```pass``` que no hace nada."
   ]
  },
  {
   "cell_type": "code",
   "execution_count": null,
   "id": "d2497e7d",
   "metadata": {
    "slideshow": {
     "slide_type": "fragment"
    }
   },
   "outputs": [],
   "source": [
    "if x < 0:\n",
    " \tpass # Aquí falta manejar qué pasa cuando x es menor que 0."
   ]
  },
  {
   "cell_type": "markdown",
   "id": "ffdb4d5a",
   "metadata": {
    "slideshow": {
     "slide_type": "slide"
    }
   },
   "source": [
    "# Ejecución alternativa\n",
    "* Una segunda forma de la sentencia ```if``` es la ejecución alternativa, donde hay dos posibilidades y una condición que determina cuál se ejecuta. \n",
    "* La sintaxis es así:"
   ]
  },
  {
   "cell_type": "code",
   "execution_count": null,
   "id": "5b26c74c",
   "metadata": {
    "slideshow": {
     "slide_type": "fragment"
    }
   },
   "outputs": [],
   "source": [
    "x = int(input(\"Ingrese un número: \"))\n",
    "if x % 2 == 0:\n",
    "    print (\"x es par\")\n",
    "else:\n",
    "    print(\"x es impar\")"
   ]
  },
  {
   "cell_type": "markdown",
   "id": "0dde21ca",
   "metadata": {
    "slideshow": {
     "slide_type": "fragment"
    }
   },
   "source": [
    "* El resto de la división entera de ```x``` por ```2``` es ```0``` cuando ```x``` es par. \n",
    "* En caso que la condición sea ```False``` (falso), el segundo conjunto de sentencias se ejecuta.\n",
    "*  Dado que la condición debe ser ```True``` o ```False```, exactamente una de las alternativas se ejecuta. Las alternativas son llamadas ramas, porque como si fueran ramas donde se bifurca el flujo de ejecución."
   ]
  },
  {
   "cell_type": "markdown",
   "id": "aa095395",
   "metadata": {
    "slideshow": {
     "slide_type": "slide"
    }
   },
   "source": [
    "# Condiciones encadenadas\n",
    "* A veces hay más de dos posibilidades y necesitamos <span class=\"destacado\">más de dos ramas</span>. Una forma de expresar un cómputo de este tipo es encadenar condiciones."
   ]
  },
  {
   "cell_type": "code",
   "execution_count": null,
   "id": "adef8fae",
   "metadata": {
    "slideshow": {
     "slide_type": "fragment"
    }
   },
   "outputs": [],
   "source": [
    "x = int(input(\"Ingrese un número para asignar a x: \"))\n",
    "y = int(input(\"Ingrese un número para asignar a y: \"))\n",
    "if x < y:\n",
    "    print (\"x es menor que y\")\n",
    "elif x > y:\n",
    "    print (\"x es mayor que y\")\n",
    "else:\n",
    "    print(\"x e y son iguales\")"
   ]
  },
  {
   "cell_type": "markdown",
   "id": "a50f65a5",
   "metadata": {
    "slideshow": {
     "slide_type": "fragment"
    }
   },
   "source": [
    "* ```elif``` es una abreviación de **\"else if\"**. \n",
    "* Otra vez, exactamente sólo una de las ramas se va a ejecutar. \n",
    "* No hay límite para la cantidad de sentencias que pueden aparecer dentro de un bloque ```elif```. \n",
    "* Si hay una cláusula ```else```, tiene que estar al final, no es obligatorio que exista."
   ]
  },
  {
   "cell_type": "markdown",
   "id": "b5644d52",
   "metadata": {
    "slideshow": {
     "slide_type": "slide"
    }
   },
   "source": [
    "# Condiciones encadenadas (2)"
   ]
  },
  {
   "cell_type": "code",
   "execution_count": 1,
   "id": "c0c32b96",
   "metadata": {},
   "outputs": [],
   "source": [
    "def dibujar_a():\n",
    "    print(\"dibujar_a()\")\n",
    "def dibujar_b():\n",
    "    print(\"dibujar_b()\")\n",
    "def dibujar_c():\n",
    "    print(\"dibujar_c()\")"
   ]
  },
  {
   "cell_type": "code",
   "execution_count": 2,
   "id": "4159bbca",
   "metadata": {
    "slideshow": {
     "slide_type": "fragment"
    }
   },
   "outputs": [
    {
     "name": "stdout",
     "output_type": "stream",
     "text": [
      "dibujar_a()\n"
     ]
    }
   ],
   "source": [
    "opcion = input(\"Seleccione una opción: a, b, c: \")    \n",
    "if opcion == \"a\":\n",
    "    dibujar_a()\n",
    "elif opcion == \"b\":\n",
    "    dibujar_b()\n",
    "elif opcion == \"c\":\n",
    "    dibujar_c()\n"
   ]
  },
  {
   "cell_type": "markdown",
   "id": "3d224f11",
   "metadata": {
    "slideshow": {
     "slide_type": "slide"
    }
   },
   "source": [
    "# Condiciones anidadas\n",
    "* Un condicional puede ser también anidado dentro de otro. Podemos escribir el ejemplo anterior de esta forma:"
   ]
  },
  {
   "cell_type": "code",
   "execution_count": null,
   "id": "8f22446b",
   "metadata": {
    "slideshow": {
     "slide_type": "fragment"
    }
   },
   "outputs": [],
   "source": [
    "if x == y:\n",
    "    print(\"x e y son iguales\")\n",
    "else:\n",
    "    if x < y:\n",
    "        print (\"x es menor que y\")\n",
    "    else:\n",
    "        print(\"x es mayor que y\")"
   ]
  },
  {
   "cell_type": "markdown",
   "id": "9b4ab015",
   "metadata": {},
   "source": [
    "* El condicional exterior contiene dos ramas. La primera contiene una única sentencia simple. La segunda contiene otra sentencia ```if``` que tiene sus propias dos ramas.\n",
    "* Esas dos ramas son también sentencias simples, sin embargo, podrían haber sido sentencias condicionales también.\n",
    "* Puede parecernos que la identanción de las sentencias hace fácil de leer la estructura, pero los condicionales anidados se vuelven difíciles de leer muy rápido. Es una buena idea evitarlos lo más que podamos."
   ]
  },
  {
   "cell_type": "markdown",
   "id": "2929a38a",
   "metadata": {
    "slideshow": {
     "slide_type": "slide"
    }
   },
   "source": [
    "# Bibliografía \n",
    "* Pablo A. García, Marcelo A. Haberman, Federico N. Guerrero: *\"Programación E1201: curso de grado\"*. 1era Edición. Editorial de la UNLP. 2021.\n",
    "* Óscar Ramírez Jiménez: *\"Python a fondo\"* 1era Edición. Editorial Marcombo S.L.. 2021.\n",
    "* Allen Downey. *\"Think Python\"*. 2da Edición. Editorial Green Tea Press. 2015.\n",
    "* Eirc Matthes: *\"Python Crash Course\"*. 1era Edición. Editorial No Starch Press. 2016.\n",
    "* Zed A. Shaw: *\"Learn Python 3 the Hard Way\"*. 1era Edición. Editorial Addison-Wesley. 2017."
   ]
  }
 ],
 "metadata": {
  "kernelspec": {
   "display_name": "Python 3 (ipykernel)",
   "language": "python",
   "name": "python3"
  },
  "language_info": {
   "codemirror_mode": {
    "name": "ipython",
    "version": 3
   },
   "file_extension": ".py",
   "mimetype": "text/x-python",
   "name": "python",
   "nbconvert_exporter": "python",
   "pygments_lexer": "ipython3",
   "version": "3.11.3"
  },
  "rise": {
   "enable_chalkboard": true,
   "scroll": true,
   "theme": "moon",
   "transition": "slide"
  },
  "widgets": {
   "application/vnd.jupyter.widget-state+json": {
    "state": {},
    "version_major": 2,
    "version_minor": 0
   }
  }
 },
 "nbformat": 4,
 "nbformat_minor": 5
}
