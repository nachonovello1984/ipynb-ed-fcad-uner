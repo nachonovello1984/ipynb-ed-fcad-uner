{
 "cells": [
  {
   "cell_type": "markdown",
   "id": "213b8c3e-9aa0-4abb-947c-3b570b72d202",
   "metadata": {
    "editable": false,
    "slideshow": {
     "slide_type": "slide"
    },
    "tags": []
   },
   "source": [
    "<div class=\"portada\">\n",
    "    <img src=\"assets/fcad-70.png\" alt=\"Texto alternativo\"  alt=\"Facultad de Ciencias de la Administración - UNER\" style=\"display: inline; width:50%; max-width: 500px;\"/>\n",
    "    <h1 >Unidad 1: Introducción a Estructuras de Datos</h1>\n",
    "    <h2>Estructuras de Datos</h2>\n",
    "    <h3>Facultad de Ciencias de la Administración</h3>\n",
    "</div>"
   ]
  },
  {
   "cell_type": "code",
   "execution_count": 3,
   "id": "44d46d81",
   "metadata": {},
   "outputs": [
    {
     "name": "stdout",
     "output_type": "stream",
     "text": [
      "PRIMER CUATRIMESTRE DE 2024 😎\n"
     ]
    }
   ],
   "source": [
    "from datetime import datetime\n",
    "print(f\"{'PRIMER' if datetime.now().month < 7 else 'SEGUNDO'} CUATRIMESTRE DE {datetime.now().year} 😎\")"
   ]
  },
  {
   "cell_type": "markdown",
   "id": "e1eddf1b-a283-4327-baee-42f0580ae8c4",
   "metadata": {
    "editable": false,
    "slideshow": {
     "slide_type": "slide"
    },
    "tags": []
   },
   "source": [
    "# Objetivos\n",
    "- Conocer la sprincipales características de <span class=\"py\">Python</span>.\n",
    "- Realizar una instalación completa del ambiente de desarrollo.\n",
    "- Entender cómo definir variables y realizar operaciones con ellas.\n",
    "- Conocer los tipos de datos de los que dispone el lenguaje."
   ]
  },
  {
   "cell_type": "markdown",
   "id": "144705c6-cc1c-4cfc-8367-9df441943f4e",
   "metadata": {
    "editable": false,
    "slideshow": {
     "slide_type": "slide"
    },
    "tags": []
   },
   "source": [
    "# Introducción\n",
    "- Durante este curso aprenderemos a programar haciendo uso de <span class=\"destacado\">Tipos</span> y <span class=\"destacado\">Estructuras de Datos</span>, obteniendo así, soluciones más simples y/o eficientes a los problemas que se nos planteen.\n",
    "- Los Tipos de Datos que definamos, serán producto de la formalización en un lenguaje de programación, de conceptos que abstraemos de la realidad.\n",
    "- La finalidad de esta clase es que los estudiantes tengan un primer contacto con el lenguaje de programación en Python y comprendan sus características principales."
   ]
  },
  {
   "cell_type": "markdown",
   "id": "625892ac-a8c9-4785-8208-e54bcab7d241",
   "metadata": {
    "editable": false,
    "slideshow": {
     "slide_type": "slide"
    },
    "tags": []
   },
   "source": [
    "# Python - Características\n",
    "- <span class=\"py\">Python</span> es un lenguaje de programación interpretado de alto nivel.\n",
    "- En 1989, **Guido van Rossumm**  (holandés) comenzó como hobby el desarrollo de <span class=\"py\">Python</span>, con el objetivo de mejorar la interfaz de usuario del Sistema Operativo Amoeba. \n",
    "- En un principio, se pensó como un lenguaje de programación pequeño para utilizar en **CWI** (Centrum Wiskunde & Informatica) (instituto donde se desempeñaba van Rossum) incorporando características adicionales que ayudaran a interactuar mejor con el sistema operativo.\n",
    "- La primera versión de <span class=\"py\">Python</span> fue lanzada en febrero de 1991 con el número de versión 0.9.0.\n",
    "- El nombre del lenguaje proviene de la afición que tenía van Rossum a la serie de televisión *Monty Python´s Flying Circus* y no de algo relacionado con el mundo de los reptiles."
   ]
  },
  {
   "cell_type": "markdown",
   "id": "ffdb4d5a",
   "metadata": {
    "slideshow": {
     "slide_type": "slide"
    }
   },
   "source": [
    "# Características - Ventajas\n",
    "* <span class=\"py\">Python</span> es un lenguaje de alto nivel, de propósito general, multiparadigma principalmente imperativo, orientado a objetos y funcional, de tipado dinámico y fuertemente tipado a nivel de lenguaje de programación. "
   ]
  },
  {
   "cell_type": "markdown",
   "id": "aa095395",
   "metadata": {
    "slideshow": {
     "slide_type": "subslide"
    }
   },
   "source": [
    "# Características - Ventajas (1)\n",
    "* Sus principales ventajas de <span class=\"py\">Python</span> son:\n",
    "    * Sintaxis sencilla, simple y clara: permite desarrollar programas de forma intuitiva. Leer un programa escrito en Python es muy parecido a leer un texto anglosajón.\n",
    "    * La claridad viene de la mano de:\n",
    "        * Los bloque lógicos se definen utilizando identación en vez de utilizar caracteres de apertura y cierre de bloque como ```{``` y ```}``` ( usado en lenguajes como <span class=\"destacado\">Java</span>, <span class=\"destacado\">JavaScript</span> o <span class=\"destacado\">C</span>). \n",
    "        * Las expresiones simples no necesitan el uso de paréntesis (como <span class=\"destacado\">JavaScript</span>).\n",
    "        * Para la separación de instrucciones se utiliza el salto de línea ↩️ en vez del carácter ```;```.\n",
    "        * Posee un sistema de recolección de basura. "
   ]
  },
  {
   "cell_type": "markdown",
   "id": "51c04885",
   "metadata": {
    "slideshow": {
     "slide_type": "subslide"
    }
   },
   "source": [
    "# Características – Ventajas (2)\n",
    "* **Interpretado**: no es necesario compilar los programas cada vez que se hace un cambio en el código. \n",
    "    * Representa una gran ventaja frente a los lenguajes compilados (<span class=\"destacado\">C, C++, Java</span>) y aumenta considerablemente la velocidad de desarrollo de aplicaciones. \n",
    "    * Por otro lado, el código es <span class=\"destacado\">independiente del hardware</span> en el que se ejecuta resultando en programas multiplataforma gracias al uso de su máquina virtual.\n",
    "* **Baterías incluidas**: posee multitud de herramientas en la biblioteca estándar que ayudan a realizar un sinfín de aplicaciones sin necesidad de utilizar bibliotecas de terceros. \n",
    "    * <span class=\"py\">Python</span> también permite la integración con otros lenguajes de programación. Así, podemos en <span class=\"destacado\">C, C++, .Net o Java</span> ejecutar código <span class=\"py\">Python</span>, y viceversa. Usando diferentes técnicas, el código <span class=\"py\">Python</span> se puede transcompilar en otro lenguaje (como <span class=\"destacado\">JavaScript</span>) u otros lenguajes pueden ejecutar código <span class=\"py\">Python</span> haciendo uso de subprocesos u otras técnicas."
   ]
  },
  {
   "cell_type": "markdown",
   "id": "e4885444",
   "metadata": {
    "slideshow": {
     "slide_type": "subslide"
    }
   },
   "source": [
    "# Características – Ventajas (3)\n",
    "* **Multiplataforma**: se puede ejecutar sobre PCs con Windows, Linux o Mac OSX, así como también en otros dispositivos electrónicos como teléfonos, relojes inteligentes y consolas de videojuegos.\n",
    "* **Libre, de código abierto y gratuito**: puede ser usado, copiado, estudiado, y modificado de cualquier forma. \n",
    "    * El código de <span class=\"py\">Python</span> es compartido libremente y se alienta a la comunidad de programadores que mejoren el diseño del software. \n",
    "    * Las distintas versiones de Python puede descargarse desde el sitio Web oficial: <a href=\"https://www.python.org/downloads/source/\">[Enlace]</a>.\n",
    "* **Comunidad**: <span class=\"py\">Python</span> cuenta con extensa documentación y una enorme comunidad. \n",
    "    * La comunidad oficial <span class=\"destacado\">\"Python Software Foundation\" (PSF)</span>: <a href=\"https://www.python.org/psf/\">[Enlace]</a>.\n",
    "    * La evolución de <span class=\"py\">Python</span> se rige por la aprobación/implementación de propuestas de mejora conocidas con el nombre de <span class=\"destacado\">PEP</span> siguiendo un proceso de aprobación que participa e involucra a los miembros de la comunidad."
   ]
  },
  {
   "cell_type": "markdown",
   "id": "b5a61b37",
   "metadata": {
    "slideshow": {
     "slide_type": "slide"
    }
   },
   "source": [
    "# Características - Debilidades\n",
    "\n",
    "* Al igual que cualquier otro lenguaje de programación, <span class=\"py\">Python</span> también tiene puntos débiles:\n",
    "* **Lentitud**: en muchas ocasiones se considera que los programas desarrollados en <span class=\"py\">Python</span> son <span class=\"destacado\">\"lentos\"</span> en comparación con los tiempos de ejecución de lenguajes compilados.\n",
    "    * El origen de esta afirmación reside en que se trata de <span class=\"destacado\">lenguaje interpretado</span> y no poseer por defecto un compilador JIT (del inglés Just in – Time),  lo que haría que se compilase el programa escrito en <span class=\"py\">Python</span> y optimizasen más los tipos de datos. \n",
    "    * Aún así, en <span class=\"py\">Python 3</span> se han hecho notables mejoras de rendimiento en los tipos de datos. \n",
    "    * No obstante, existen librerías que permiten marcar porciones de código para ser compiladas en tiempo de ejecución o la opción de utilizar <span class=\"destacado\">CPython</span>, que permite escribir código <span class=\"destacado\">C</span> compatible con <span class=\"py\">Python</span> e integrarlo de forma natural para mejorar la velocidad de procesamiento."
   ]
  },
  {
   "cell_type": "markdown",
   "id": "496d871a",
   "metadata": {
    "slideshow": {
     "slide_type": "slide"
    }
   },
   "source": [
    "# Versiones\n",
    "\n",
    "* A lo largo de su historia <span class=\"py\">Python</span> ha sufrido numerosos cambios y hoy en día sigue recibiéndolos continuamente a través de las <span class=\"destacado\">PEP (Python Enhancement Proposal)</span>. \n",
    "* A continuación, se nombran las principales versiones con los cambios más destacados:\n",
    "    * Versión 0.9 (1991): la primera versión publicada por van Rossum. Contaba con muchos componentes actuales como listas, diccionarios, conceptos de orientación a objetos, cadenas de caracteres, entre otros.\n",
    "    * Versión 1.0 (1994): se introducen conceptos de programación funcional.\n",
    "    * Versión  1.6 (2000): se añade licencia compatible con GPL (GNU General Public License).\n",
    "    * <span class=\"destacado\">Versión 2.7 (2010)</span>: última versión de la rama 2.X. En 2014 se anuncia que la versión 2.X dejará de tener soporte a principios de 2020, invitando a los usuarios a migrar activamente a la versión 3.\n",
    "    * <span class=\"destacado\">Versión 3.0 (2008)</span>: se hacen cambios en cuestiones principales del lenguaje, quitando redundancia de código e introduciendo grandes incompatibilidades con la versión 2.\n",
    "    * Versión 3.9 (2020): se añaden múltiples funcionalidades y se borran algunas presentes por retrocompatibilidad con la versión 2. Desde aquí en adelante no funciona en Windows 7.\n",
    "    * <span class=\"destacado\">Versión 3.12.2</span> (06/02/2024): última versión del lenguaje."
   ]
  },
  {
   "cell_type": "markdown",
   "id": "db924414",
   "metadata": {
    "slideshow": {
     "slide_type": "slide"
    }
   },
   "source": [
    "# Intérprete de Python\n",
    "\n",
    "* El código fuente de <span class=\"py\">Python</span> no necesita ser compilado a código máquina específico del hardware donde se ejecuta. La ejecución se realiza en cualquier sistema que tenga instalada la <span class=\"py\">Máquina Virtual de Python</span>.\n",
    "* Instalar <span class=\"py\">Python</span> viene con dos componentes fundamentales: \n",
    "    * El <span class=\"destacado\">intérprete</span> y \n",
    "    * la <span class=\"destacado\">biblioteca estándar</span> (módulo, funciones, constantes, tipos, tipos de datos, excepciones, etc.).\n",
    "<figure class=\"centrado\">\n",
    "  <picture>\n",
    "    <img src=\"assets/Practica01_Introduccion/python_interpreter.png\" alt=\"Intérprete de Python\">\n",
    "  </picture>\n",
    "  <figcaption>Fuente: <a href=\"https://python-kurs.github.io/sommersemester_2019/units/S01E01.html\">\n",
    "  https://python-kurs.github.io/sommersemester_2019/units/S01E01.html\n",
    "  </a></figcaption>\n",
    "</figure>"
   ]
  },
  {
   "cell_type": "markdown",
   "id": "a9714c0d",
   "metadata": {
    "slideshow": {
     "slide_type": "subslide"
    }
   },
   "source": [
    "# Intérprete de Python (2)\n",
    "* Se podría definir a un intérprete como un programa que se encarga de ejecutar otros programas.\n",
    "* A continuación se ahondará en ello:\n",
    "    * El código fuente, son archivos de texto plano que tienen una gramática específica (*lenguaje Python*), con una extensión concreta (**.py**) y estructurados de una forma precisa.\n",
    "    * Los archivos <span class=\"destacado\">byte code</span>, son el resultado de una compilación rápida que se efectúa justo antes de comenzar la ejecución. El código escrito en <span class=\"destacado\">byte code</span> está listo para ser ejecutado en cualquier **Máquina Virtual de Python**.\n",
    "    * Por último, la <span class=\"destacado\">Máquina Virtual de Python (PVM – Python Virtual Machine)</span>, es la encargada de ejecutar los archivos que tienen el <span class=\"destacado\">byte code</span>. Por lo tanto, la parte que sí es dependiente del hardware utilizado es la **Máquina Virtual**.\n",
    "* Lo que se denomina <span class=\"destacado\">intérprete de Python</span> es el programa completo que analiza el código fuente, genera los ficheros compilados y ejecuta el código usando la máquina virtual."
   ]
  },
  {
   "cell_type": "markdown",
   "id": "21f1457a",
   "metadata": {
    "slideshow": {
     "slide_type": "subslide"
    }
   },
   "source": [
    "# Intérprete de Python (3)\n",
    "* Cabe destacar algunas peculiaridades del <span class=\"destacado\">byte code</span>:\n",
    "    * Los archivos que contienen el byte code tienen una extensión <span class=\"destacado\">.pyc (Python compiled)</span>.\n",
    "    * Los archivos no son necesarios para la ejecución del programa, dado que, si no se pueden generar por algún motivo (por falta de espacio o de permisos de escritura), el byte code será generado e insertado en memoria directamente, sin crearse en ficheros guardados en el sistema operativo.\n",
    "    * Un programa en <span class=\"py\">Python</span> que tenga los archivos **.pyc** generados no necesita tener el código fuente, por lo que se puede ahorrar espacio de disco borrando los códigos fuente solo ejecutando los **.pyc.** (solo se recomienda en sistemas con grandes restricciones de espacio)\n",
    "    * El <span class=\"destacado\">intérprete de Python</span> es inteligente a la hora de generar los **.pyc**, si ya se han generado los ficheros .pyc y no ha habido cambios en el código fuente, no realiza ninguna compilación, simplemente usa los archivos ya compilados, agilizando así el proceso de iniciar la aplicación."
   ]
  },
  {
   "cell_type": "markdown",
   "id": "90dfb8f0",
   "metadata": {
    "slideshow": {
     "slide_type": "slide"
    }
   },
   "source": [
    "# Implementaciones\n",
    "\n",
    "* Cuando se habla de la implementación de <span class=\"py\">Python</span>, normalmente se  hace referencia a la implementación basada en <span class=\"destacado\">C</span> denominada <span class=\"destacado\">CPython</span>. \n",
    "    * No obstante, el intérprete puede ser implementado en otros lenguajes. Las diferencias entre implementaciones están, principalmente, en la habilidad de usar librerías escritas en algún lenguaje específico.\n",
    "* **CPython**:\n",
    "    * Es la implementación original del lenguaje y la más utilizada, programada en ANSI C. \n",
    "    * Si un sistema operativo tiene <span class=\"py\">Python</span> preinstalado, lo más seguro es que se trate de <span class=\"destacado\">CPython</span>.\n",
    "    * Es el estándar, siempre se mantiene actualizada, soporta la interoperabilidad con librerías escritas en **C** y normalmente es muy rápida en tiempo de ejecución comparada con las demás implementaciones. En GitHub: <a href=\"https://github.com/python/cpython\">https://github.com/python/cpython</a>\n",
    "    * Otras implementaciones: **Jython, PyPy, IronPython**."
   ]
  },
  {
   "cell_type": "markdown",
   "id": "db1586b3",
   "metadata": {
    "slideshow": {
     "slide_type": "slide"
    }
   },
   "source": [
    "# Hola Mundo! en Python\n",
    "* Es tradición, que nuestro programa cuando aprendemos un nuevo lenguaje de programación se llame \"Hola Mundo!\". \n",
    "* En <span class=\"py\">Python</span> se hace así:"
   ]
  },
  {
   "cell_type": "code",
   "execution_count": 2,
   "id": "d114d226",
   "metadata": {
    "slideshow": {
     "slide_type": "fragment"
    }
   },
   "outputs": [
    {
     "name": "stdout",
     "output_type": "stream",
     "text": [
      "Hola Cristian!\n"
     ]
    }
   ],
   "source": [
    "print(\"Hola Mundo!\")"
   ]
  },
  {
   "cell_type": "markdown",
   "id": "4afae2b1",
   "metadata": {
    "slideshow": {
     "slide_type": "fragment"
    }
   },
   "source": [
    "* Los paréntesis indican que ```print``` es una función. \n",
    "* Podemos usar indistintamente comillas simples o dobles, obteniendo el mismo resultado:\n",
    " \t```print ('Hola Mundo!')```\n",
    "* Definimos comentarios con el símbolo ```#```. Todo lo que se encuentre a la derecha de este símbolo será considerado como un comentario. Ejemplo:\n",
    "```60 * 60 * 1000 # la cantidad de milisegundos en una hora```"
   ]
  },
  {
   "cell_type": "markdown",
   "id": "bafc6e35",
   "metadata": {
    "slideshow": {
     "slide_type": "slide"
    }
   },
   "source": [
    "# Variables\n",
    "\n",
    "* A diferencia de otros lenguajes de programación, en <span class=\"py\">Python</py>, las variables son creadas cuando <span class=\"destacado\">aparecen por primera vez a la izquierda de una operación de asignación</span>."
   ]
  },
  {
   "cell_type": "code",
   "execution_count": null,
   "id": "fca17f18",
   "metadata": {
    "slideshow": {
     "slide_type": "fragment"
    }
   },
   "outputs": [],
   "source": [
    "nombre = 'Eddie Munson'\n",
    "print(nombre)"
   ]
  },
  {
   "cell_type": "markdown",
   "id": "d9180d05",
   "metadata": {
    "slideshow": {
     "slide_type": "fragment"
    }
   },
   "source": [
    "* Con respecto a los nombres de variables tenemos que saber que:\n",
    "    * Los nombres de las variables pueden ser de cualquier longitud. \n",
    "    * Pueden contener letras y números pero no pueden comenzar con un número. \n",
    "    * Está permitido utilizar letras en mayúscula pero es convención utilizar solo letras minúsculas.\n",
    "    * El símbolo infraguión ```_```, puede aparecer en el nombre. Es común que se use en nombres con múltiples palabras, tales como ```tu_nombre```, o ```velocidad_auto```.\n",
    "* Si se le asigna un nombre inválido a una variable obtendremos un error de nombre ilegal."
   ]
  },
  {
   "cell_type": "code",
   "execution_count": 2,
   "id": "87fd1143",
   "metadata": {
    "slideshow": {
     "slide_type": "fragment"
    }
   },
   "outputs": [
    {
     "ename": "SyntaxError",
     "evalue": "invalid decimal literal (3916916532.py, line 1)",
     "output_type": "error",
     "traceback": [
      "\u001b[1;36m  Cell \u001b[1;32mIn[2], line 1\u001b[1;36m\u001b[0m\n\u001b[1;33m    10messi = 'Lionel'\u001b[0m\n\u001b[1;37m     ^\u001b[0m\n\u001b[1;31mSyntaxError\u001b[0m\u001b[1;31m:\u001b[0m invalid decimal literal\n"
     ]
    }
   ],
   "source": [
    "10messi = 'Lionel'\n",
    "nacho@novello = 'nacho'\n",
    "class = 'Programación1'"
   ]
  },
  {
   "cell_type": "markdown",
   "id": "960abc4c",
   "metadata": {
    "slideshow": {
     "slide_type": "slide"
    }
   },
   "source": [
    "# Palabras reservadas\n",
    "* La palabra <span class=\"destacado\">class</span> es una de las palabras reservadas de <span class=\"py\">Python</span>. El intérprete utiliza palabras reservadas para reconocer la estructura del programa, y no pueden ser utilizadas como nombres de variables.\n",
    "<figure class=\"centrado\">\n",
    "    <picture>\n",
    "        <img src=\"assets/Practica01_Introduccion/palabras_reservadas.png\" alt=\"Palabras reservadas\" style=\"max-width: 800px\"/>\n",
    "    </picture>\n",
    "</figure>\n"
   ]
  },
  {
   "cell_type": "markdown",
   "id": "890b33f8",
   "metadata": {},
   "source": [
    "* <span class=\"destacado\">No es necesario memorizar el listado de palabras reservadas</span>. La mayoría de los IDE nos muestran en un color diferente las palabras reservadas."
   ]
  },
  {
   "cell_type": "markdown",
   "id": "80ba7fba",
   "metadata": {
    "slideshow": {
     "slide_type": "slide"
    }
   },
   "source": [
    "# Nombres de variables (2)\n",
    "* Algunas cuestiones importantes para tener en cuenta:\n",
    "    * <span clas=\"py\">Python</span> es sensible a mayúsculas y minúsculas. Por tanto: ```Variable_Uno``` y ```variable_Uno``` son identificadas como variables diferentes.\n",
    "* Cuando elegimos un nombre para nuestros archivos… tampoco es recomendable usar palabras reservadas.\n",
    "* Para nombrar variables en <span clas=\"py\">Python</span> se utiliza la sintaxis de los identificadores y la convención de usar <span class=\"destacado\">snake_case</span> la cual define que los nombres deben estar en su forma minúscula o mayúscula (dependiendo de si se tratan de variables locales o constantes, respectivamente) y unidos por un ```_``` (infraguión). \n",
    "* Pueden contener números pero siempre tienen que empezar con una letra."
   ]
  },
  {
   "cell_type": "markdown",
   "id": "2e6fb643",
   "metadata": {
    "slideshow": {
     "slide_type": "slide"
    }
   },
   "source": [
    "# Tipos de datos\n",
    "* <span class=\"py\">Python</span> provee un amplio abanico de tipos de datos fácilmente instanciables e intuitivos que permiten que cualquier desarrollador pueda enfocarse en qué construir y no en cómo hacerlo."
   ]
  },
  {
   "cell_type": "markdown",
   "id": "dff589c0",
   "metadata": {
    "slideshow": {
     "slide_type": "subslide"
    }
   },
   "source": [
    "# Tipos de datos (2)\n",
    "<figure class=\"centrado\">\n",
    "  <picture>\n",
    "    <img src=\"assets/Practica01_Introduccion/tipos_de_datos.png\" alt=\"Tipos de datos tabla\" style=\"max-width: 80%\"/>\n",
    "  </picture>\n",
    "</figure>"
   ]
  },
  {
   "cell_type": "markdown",
   "id": "11b8a825",
   "metadata": {
    "slideshow": {
     "slide_type": "subslide"
    }
   },
   "source": [
    "# Tipos de datos (3)\n",
    "<figure class=\"centrado\">\n",
    "  <picture>\n",
    "    <img src=\"assets/Practica01_Introduccion/tipos_de_datos_clasificacion.png\" alt=\"Tipos de datos diagrama\" style=\"width: 80%\"/>\n",
    "  </picture>\n",
    "</figure>"
   ]
  },
  {
   "cell_type": "markdown",
   "id": "d528bd98",
   "metadata": {
    "slideshow": {
     "slide_type": "slide"
    }
   },
   "source": [
    "# Literales, variables y tipos de datos (2)\n",
    "\n",
    "* En <span class=\"py\">Python</span> los valores son objetos y es el propio intérprete el que se encarga de saber dónde se ubican en la memoria y cómo acceder a ellos. \n",
    "* Por este motivo, a la hora de desarrollar aplicaciones no es necesario dedicarle mucho esfuerzo a la gestión de memoria.\n",
    "* Conceptualmente los objetos en <span class=\"py\">Python</span> se pueden ver como dos componentes:\n",
    "    * Una <span class=\"destacado\">referencia</span>, que guarda la dirección de memoria en la que está alojado el dato. \n",
    "    * Un <span class=\"destacado\">contenedor</span> que representa el almacenamiento del objeto guardado en sí, el cual contiene información relevante como el tipo de dato y la información que alberga.\n",
    "\n",
    "<figure class=\"centrado\">\n",
    "  <picture>\n",
    "    <img src=\"assets/Practica01_Introduccion/referencias.png\" alt=\"Objetos y referencias\" style=\"max-width: 800px\"/>\n",
    "  </picture>\n",
    "</figure>"
   ]
  },
  {
   "cell_type": "markdown",
   "id": "cd544944",
   "metadata": {
    "slideshow": {
     "slide_type": "slide"
    }
   },
   "source": [
    "# Variables, identificadores y tipos de datos\n",
    "* Podemos conocer la dirección de memoria donde se encuentra un objeto utilizando la función ```id()```:"
   ]
  },
  {
   "cell_type": "code",
   "execution_count": 1,
   "id": "f1f07776",
   "metadata": {
    "slideshow": {
     "slide_type": "fragment"
    }
   },
   "outputs": [
    {
     "name": "stdout",
     "output_type": "stream",
     "text": [
      "id(2): 140727591035720\n",
      "id(var1): 2882518571440\n",
      "id('Hola Mundo!'): 2882519038256\n"
     ]
    }
   ],
   "source": [
    "print(\"id(2):\", id(2))\n",
    "var1 = \"Soy var1!\"\n",
    "print(\"id(var1):\", id(var1))\n",
    "print(\"id('Hola Mundo!'):\", id('Hola Mundo!'))"
   ]
  },
  {
   "cell_type": "markdown",
   "id": "01453f7c",
   "metadata": {
    "slideshow": {
     "slide_type": "fragment"
    }
   },
   "source": [
    "* Si dos valores tienen el mismo identificador, entonces, ambos valores son exactamente el mismo.\n",
    "* Si bien esto permite ahorrar espacio en la memoria puede conllevar un inconveniente: \n",
    "    * Si se cambia el valor de referencia del identificador, el cambio afectará a todos los objetos que lo usen.\n",
    "* Para conocer el tipo de datos de una variable o valor podemos utilizar la función ```type()```."
   ]
  },
  {
   "cell_type": "code",
   "execution_count": null,
   "id": "01a8bc38",
   "metadata": {
    "slideshow": {
     "slide_type": "fragment"
    }
   },
   "outputs": [],
   "source": [
    "print(\"type(2):\", type(2))\n",
    "print(\"type(42.0):\", type(42.0))\n",
    "print(\"type('Hola Mundo!')\", type('Hola Mundo!'))"
   ]
  },
  {
   "cell_type": "markdown",
   "id": "60d8f081",
   "metadata": {
    "slideshow": {
     "slide_type": "slide"
    }
   },
   "source": [
    "# Tipos Booleanos\n",
    "* Los conceptos de <span class=\"destacado\">verdadero</span> y <span class=\"destacado\">falso</span> están presentes y modelados como <span class=\"destacado\">booleanos</span> con dos valores constantes: ```True``` y ```False``` (con la primera letra en mayúscula).\n",
    "* La función ```bool()``` permite convertir cualquier valor en un valor booleano:"
   ]
  },
  {
   "cell_type": "code",
   "execution_count": 9,
   "id": "09f11c46",
   "metadata": {},
   "outputs": [
    {
     "name": "stdout",
     "output_type": "stream",
     "text": [
      "True False\n",
      "True False\n",
      "False False False False False\n",
      "True True True True\n"
     ]
    }
   ],
   "source": [
    "print(True, False)\n",
    "print(bool(True), bool(False))\n",
    "print(bool(0), bool(0j), bool(''), bool(None), bool(set()))\n",
    "print(bool(1), bool(-1), bool('casa'), bool(24))"
   ]
  },
  {
   "cell_type": "markdown",
   "id": "76e7c2df",
   "metadata": {},
   "source": [
    "* Todos los valores en <span class=\"py\">Python</span> tienen asociada una noción de verdad. Algunos son evaluados como falso:\n",
    "* Las constantes ```None``` y ```False```\n",
    "* Los valores numéricos interpretados por cero: ```0, 0.0, 0j```\n",
    "* Los objetos vacíos: ```''```, ```\"\"```, ```()```, ```dict()```, ```set()```, ```range(0)```, ```[]```"
   ]
  },
  {
   "cell_type": "markdown",
   "id": "780a2043",
   "metadata": {
    "slideshow": {
     "slide_type": "subslide"
    }
   },
   "source": [
    "# Tipos Booleanos - Operadores\n",
    "* Las operaciones lógicas con booleanos son tres: ```or```, ```and``` y ```not```, como se muestra en la siguiente tabla:\n",
    "<figure class=\"centrado\">\n",
    "  <picture>\n",
    "    <img src=\"assets/Practica01_Introduccion/bool_operaciones.png\" alt=\"Tipos booleanos operaciones\" style=\"max-width: 800px\"/>\n",
    "  </picture>\n",
    "</figure>"
   ]
  },
  {
   "cell_type": "markdown",
   "id": "2da1ae32",
   "metadata": {
    "slideshow": {
     "slide_type": "subslide"
    }
   },
   "source": [
    "# Tipos Booleanos – Operadores – Cortocircuito lógico\n",
    "\n",
    "* El cortocircuito lógico es una propiedad que implementa <span class=\"py\">Python</span> para la evaluación de expresiones y que, además, ayuda a hacerlas más eficientes puesto que no necesita evaluar las expresiones completas.\n",
    "* Durante la evaluación de una expresión and se encuentra un elemento que es False, se detiene la ejecución (cortocircuita la ejecución) y devuelve ese valor. \n",
    "* Hace lo mismo con las expresiones ```or```, pero con los elementos que devuelvan ```True```."
   ]
  },
  {
   "cell_type": "markdown",
   "id": "f71b1dcd",
   "metadata": {
    "slideshow": {
     "slide_type": "slide"
    }
   },
   "source": [
    "# Tipos Numéricos\n",
    "\n",
    "* En el núcleo de <span class=\"py\">Python</span> existen tres tipos numéricos definidos que permiten expresar los números enteros, los números de coma flotante (números reales) y los números complejos en forma sencilla, así como operar con ellos.\n",
    "* **Operadores**:\n",
    "    * Existen operaciones numéricas compartidas por todos los tipos numéricos de <span class=\"py\">Python</span>, Además, se pueden combinar valores de tipos numéricos diferentes en cuyo caso prevalecerá el más general:\n",
    "    <figure class=\"centrado\">\n",
    "    <picture>\n",
    "    <img src=\"assets/Practica01_Introduccion/numericos_operadores.png\" alt=\"Tipos numéricos operadores\" style=\"max-width: 800px\"/>\n",
    "    </picture>\n",
    "    </figure>"
   ]
  },
  {
   "cell_type": "markdown",
   "id": "5bb04391",
   "metadata": {
    "slideshow": {
     "slide_type": "slide"
    }
   },
   "source": [
    "# Enteros\n",
    "\n",
    "* Los enteros son valores numéricos más simples e intuitivos son del tipo ```int```. Ejemplos: \n"
   ]
  },
  {
   "cell_type": "code",
   "execution_count": null,
   "id": "12a7c52c",
   "metadata": {
    "slideshow": {
     "slide_type": "fragment"
    }
   },
   "outputs": [],
   "source": [
    "print(-1)\n",
    "print(100)\n",
    "print(+123)\n",
    "print(5_000_000)\n",
    "print(05) # la expresión: 05 (anteponiendo cero) arroja error de sintaxis. "
   ]
  },
  {
   "cell_type": "markdown",
   "id": "3b7e5138",
   "metadata": {
    "slideshow": {
     "slide_type": "fragment"
    }
   },
   "source": [
    "\n",
    "* En <span class=\"py\">Python</span> los enteros pueden ser tan grandes como sea necesario, dado que no tienen un número máximo fijo asignado.\n",
    "* La función ```int()``` toma un argumento de entrada y nos devuelve un valor entero equivalente. "
   ]
  },
  {
   "cell_type": "code",
   "execution_count": null,
   "id": "a6bf95f3",
   "metadata": {
    "slideshow": {
     "slide_type": "fragment"
    }
   },
   "outputs": [],
   "source": [
    "int(True)\n",
    "print(int(False))"
   ]
  },
  {
   "cell_type": "markdown",
   "id": "684a3001",
   "metadata": {
    "slideshow": {
     "slide_type": "fragment"
    }
   },
   "source": [
    "* La conversión de números de punto flotante retorna un entero perdiéndose la parte fraccionaria."
   ]
  },
  {
   "cell_type": "code",
   "execution_count": null,
   "id": "df0b617f",
   "metadata": {
    "slideshow": {
     "slide_type": "fragment"
    }
   },
   "outputs": [],
   "source": [
    "print(int(4.8))"
   ]
  },
  {
   "cell_type": "markdown",
   "id": "c9136a34",
   "metadata": {
    "slideshow": {
     "slide_type": "slide"
    }
   },
   "source": [
    "# Números de punto flotante\n",
    "\n",
    "* Los números de punto o coma flotante (o números reales) forman parte del conjunto de tipos numéricos implementado en <span class=\"py\">Python</span> y permite realizar operaciones de forma fácil y sencilla gracias a las operaciones que hay disponibles en el núcleo. Ejemplos:\n"
   ]
  },
  {
   "cell_type": "code",
   "execution_count": 1,
   "id": "e9748a19",
   "metadata": {
    "slideshow": {
     "slide_type": "fragment"
    }
   },
   "outputs": [
    {
     "name": "stdout",
     "output_type": "stream",
     "text": [
      "5.0\n",
      "5.0\n",
      "5.0\n",
      "5.0\n",
      "50.0\n",
      "50000000000.0\n"
     ]
    }
   ],
   "source": [
    "print(5.)\n",
    "print(5.0)\n",
    "print(05.0)\n",
    "# En notación científica: \n",
    "print(5e0)\n",
    "print(5.0e1)\n",
    "print(5.0e10)"
   ]
  },
  {
   "cell_type": "markdown",
   "id": "0d3201ba",
   "metadata": {},
   "source": [
    "* La función que nos permite convertir cualquier valor en un número de punto flotante es ```float()```."
   ]
  },
  {
   "cell_type": "markdown",
   "id": "a460380c",
   "metadata": {
    "slideshow": {
     "slide_type": "slide"
    }
   },
   "source": [
    "# Orden de operaciones\n",
    "* Cuando una expresión contiene más de un operador, el orden de evaluación, depende del orden de las operaciones. \n",
    "* Para los operadores matemáticos, <span class=\"py\">Python</span> sigue las convenciones matemáticas. El acrónimo <span class=\"destacado\">PEMDAS</span> es una forma útil de recordar estas reglas:\n",
    "    * **Paréntesis**: tiene el más alto nivel de precedencia y pueden ser utilizados para forzar a que una expresión se evalúe en el orden deseado. Dado que las expresiones en paréntesis se evalúan primero, ```2 * (3 – 1)``` es ```4``` y ```(1 + 1)**(5 - 2)``` es ```8```. Se puede también utilizar paréntesis para facilitar la lectura como en ```(minuto * 100) / 60```, incluso si la intención no es cambiar la precedencia.\n",
    "    * **Exponenciación**: tiene el siguiente nivel de precedencia, así que ```1 + 2**3``` es ```9```, no ```27``` y ```2 * 3**2``` es ```18``` no ```36```.\n",
    "    * **Multiplicación y División**: tienen mayor nivel de precedencia que adición y sustracción. Así que ```2 * 3 - 1``` es ```5```, no ```4``` y ```6 + 4 / 2``` es ```8``` no ```5```.\n",
    "    * **Operadores con igual nivel de precedencia**: son evaluados de izquierda a derecha (excepto exponenciación): ```grados / 2 * pi```, la división sucede primero y el resultado es multiplicado por ```pi```. Para dividir ```2``` por ```pi``` se puede usar paréntesis o escribir: ```grados / 2 / pi```.\n",
    "* Es fácil recordar la precedencia de los operadores. Si no podemos darnos cuenta con simplemente mirar el código de la expresión, entonces deberíamos usar paréntesis para que quede más claro."
   ]
  },
  {
   "cell_type": "markdown",
   "id": "9aff88c8",
   "metadata": {
    "slideshow": {
     "slide_type": "slide"
    }
   },
   "source": [
    "# Operaciones con strings\n",
    "* En general no se pueden llevar a cabo operaciones matemáticas sobre strings, incluso si los strings parecen números, las siguientes expresiones son inválidas:\n"
   ]
  },
  {
   "cell_type": "code",
   "execution_count": null,
   "id": "c50f1abe",
   "metadata": {
    "slideshow": {
     "slide_type": "fragment"
    }
   },
   "outputs": [],
   "source": [
    "print('asado' -  'fútbol')\n",
    "print('pizza' / 'cerveza')\n",
    "print('fresco' * 'batata')"
   ]
  },
  {
   "cell_type": "markdown",
   "id": "a7565f76",
   "metadata": {
    "slideshow": {
     "slide_type": "fragment"
    }
   },
   "source": [
    "* Pero las dos excepciones son ```+``` y ```*```.\n",
    "* El operador ```+``` lleva a cabo la operación de <span class=\"destacado\">concatenación</span>, esto significa que dos strings se juntan extremo con extremo. Ejemplo:"
   ]
  },
  {
   "cell_type": "code",
   "execution_count": null,
   "id": "27055a60",
   "metadata": {
    "slideshow": {
     "slide_type": "fragment"
    }
   },
   "outputs": [],
   "source": [
    "primero = \"Corona\"\n",
    "segundo = \"virus\"\n",
    "print(primero + segundo)"
   ]
  },
  {
   "cell_type": "markdown",
   "id": "fc53b520",
   "metadata": {
    "slideshow": {
     "slide_type": "fragment"
    }
   },
   "source": [
    "* El operador ```*``` puede funcionar también en strings para indicar repetición si uno de los operandos es un string y el otro un entero. Ejemplo:"
   ]
  },
  {
   "cell_type": "code",
   "execution_count": null,
   "id": "180fbf9a",
   "metadata": {
    "slideshow": {
     "slide_type": "fragment"
    }
   },
   "outputs": [],
   "source": [
    "print(\"Tock\" * 3)"
   ]
  },
  {
   "cell_type": "markdown",
   "id": "8581d076",
   "metadata": {},
   "source": [
    "\n",
    "* El uso de ```+``` y ```*``` tiene la misma analogía que suma y multiplicación. Así como ```4*3``` es el equivalente a ```4+4+4``` esperamos que ```\"Tock\"*3``` sea ```\"Tock\" + \"Tock\" + \"Tock\"```."
   ]
  },
  {
   "cell_type": "markdown",
   "id": "0242bd7c",
   "metadata": {
    "slideshow": {
     "slide_type": "slide"
    }
   },
   "source": [
    "# Comparaciones\n",
    "* En <span class=\"py\">Python</span> los objetos se pueden comprar entre sí con los ocho tipos de operadores básicos:\n",
    "<figure class=\"centrado\">\n",
    "    <picture>\n",
    "    <img src=\"assets/Practica01_Introduccion/comparacion_operadores.png\" alt=\"Operadores de Comparación\" style=\"max-width: 800px\"/>\n",
    "    </picture>\n",
    "</figure>"
   ]
  },
  {
   "cell_type": "markdown",
   "id": "2929a38a",
   "metadata": {
    "slideshow": {
     "slide_type": "slide"
    }
   },
   "source": [
    "# Bibliografía \n",
    "* Pablo A. García, Marcelo A. Haberman, Federico N. Guerrero: *\"Programación E1201: curso de grado\"*. 1era Edición. Editorial de la UNLP. 2021.\n",
    "* Óscar Ramírez Jiménez: *\"Python a fondo\"* 1era Edición. Editorial Marcombo S.L.. 2021.\n",
    "* Allen Downey. *\"Think Python\"*. 2da Edición. Editorial Green Tea Press. 2015.\n",
    "* Eirc Matthes: *\"Python Crash Course\"*. 1era Edición. Editorial No Starch Press. 2016.\n",
    "* Zed A. Shaw: *\"Learn Python 3 the Hard Way\"*. 1era Edición. Editorial Addison-Wesley. 2017."
   ]
  }
 ],
 "metadata": {
  "kernelspec": {
   "display_name": "Python 3 (ipykernel)",
   "language": "python",
   "name": "python3"
  },
  "language_info": {
   "codemirror_mode": {
    "name": "ipython",
    "version": 3
   },
   "file_extension": ".py",
   "mimetype": "text/x-python",
   "name": "python",
   "nbconvert_exporter": "python",
   "pygments_lexer": "ipython3",
   "version": "3.11.3"
  },
  "rise": {
   "enable_chalkboard": true,
   "scroll": true,
   "theme": "moon",
   "transition": "slide"
  },
  "widgets": {
   "application/vnd.jupyter.widget-state+json": {
    "state": {},
    "version_major": 2,
    "version_minor": 0
   }
  }
 },
 "nbformat": 4,
 "nbformat_minor": 5
}
