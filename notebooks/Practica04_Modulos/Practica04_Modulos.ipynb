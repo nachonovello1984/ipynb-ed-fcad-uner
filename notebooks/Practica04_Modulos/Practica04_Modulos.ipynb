{
 "cells": [
  {
   "cell_type": "markdown",
   "id": "213b8c3e-9aa0-4abb-947c-3b570b72d202",
   "metadata": {
    "editable": false,
    "slideshow": {
     "slide_type": "slide"
    },
    "tags": []
   },
   "source": [
    "<div class=\"portada\">\n",
    "    <img src=\"../assets/fcad-70.png\" alt=\"Texto alternativo\"  alt=\"Facultad de Ciencias de la Administración - UNER\" style=\"display: inline; width:50%; max-width: 450px;\"/>\n",
    "    <h1>Unidad 1: Introducción a Estructuras de Datos</h1>\n",
    "    <h3>Estructuras de Datos</h3>\n",
    "    <h4>Facultad de Ciencias de la Administración - UNER</h4>\n",
    "</div>"
   ]
  },
  {
   "cell_type": "code",
   "execution_count": 1,
   "id": "44d46d81",
   "metadata": {},
   "outputs": [
    {
     "name": "stdout",
     "output_type": "stream",
     "text": [
      "PRIMER CUATRIMESTRE DE 2024 😎\n"
     ]
    }
   ],
   "source": [
    "from datetime import datetime\n",
    "print(f\"{'PRIMER' if datetime.now().month < 7 else 'SEGUNDO'} CUATRIMESTRE DE {datetime.now().year} 😎\")"
   ]
  },
  {
   "cell_type": "markdown",
   "id": "e1eddf1b-a283-4327-baee-42f0580ae8c4",
   "metadata": {
    "editable": false,
    "slideshow": {
     "slide_type": "slide"
    },
    "tags": []
   },
   "source": [
    "# Funciones y módulos\n",
    "## Objetivos\n",
    "* Entender cómo definir funciones. \n",
    "* Comprender las distintas técnicas para separar las responsabilidades de una aplicación.\n",
    "* Conocer la importancia de la reutilización de código.\n",
    "* Definir funciones recursivas."
   ]
  },
  {
   "cell_type": "markdown",
   "id": "4d66a3ce",
   "metadata": {
    "slideshow": {
     "slide_type": "subslide"
    }
   },
   "source": [
    "## Temas a desarrollar:\n",
    "* Modularización. Definición. Funciones. Definición.\n",
    "* Parámetros y argumentos. Técnicas de diseño top-down y bottom-up. \n",
    "* Recursividad. Definición. "
   ]
  },
  {
   "cell_type": "markdown",
   "id": "144705c6-cc1c-4cfc-8367-9df441943f4e",
   "metadata": {
    "editable": false,
    "slideshow": {
     "slide_type": "slide"
    },
    "tags": []
   },
   "source": [
    "# Módulos\n",
    "* Los libros están organizados jerárquicamente de menor a mayor en palabras, oraciones, párrafos y capítulos. Con los programas pasa lo mismo: \n",
    "<figure class=\"centrado\">\n",
    "  <picture>\n",
    "    <img src=\"../assets/Practica04_Modulos/analogia_tabla.png\" alt=\"Analogía entre libros y programas\">\n",
    "  </picture>\n",
    "</figure>\n",
    "\n",
    "* En <span class=\"py\">Python</span> un <span class=\"destacado\">módulo</span> es un archivo con extensión ```.py``` que alberga un conjunto de funciones, variables o clases y que puede ser usado por otros módulos. \n",
    "* Los **módulos** nos permiten reutilizar código, organizarlo mejor y así evitar que nuestro programa consista en un único y gigante archivo."
   ]
  },
  {
   "cell_type": "markdown",
   "id": "5ebde648",
   "metadata": {
    "slideshow": {
     "slide_type": "slide"
    }
   },
   "source": [
    "# Crear e importar un Módulo\n",
    "* El primer paso consiste en crear un archivo con extensión ```.py```. Digamos ```nombre_modulo.py```. \n",
    "    * Para que tenga sentido deberá tener al menos una función o variable.\n",
    "* A continuación, en otro archivo, usamos la sentencia ```import nombre_modulo```, donde ```nombre_modulo``` es el nombre del primer archivo <span class=\"py\">Python</span> (sin incluir la extensión ```.py```).\n",
    "* Supongamos que definimos el archivo [ejemplo1_matematicas](ejemplo1_matematicas.py)"
   ]
  },
  {
   "cell_type": "code",
   "execution_count": null,
   "id": "f70680d4",
   "metadata": {
    "slideshow": {
     "slide_type": "fragment"
    }
   },
   "outputs": [],
   "source": [
    "import ejemplo1_matematicas\n",
    "print(ejemplo1_matematicas.sumar(5,4))\n",
    "print(ejemplo1_matematicas.restar(100,10))"
   ]
  },
  {
   "cell_type": "markdown",
   "id": "374777da",
   "metadata": {
    "slideshow": {
     "slide_type": "slide"
    }
   },
   "source": [
    "# Importar un módulo con otro nombre\n",
    "* En ocasiones importamos un módulo y sucede que: <img src=\"../assets/Practica04_Modulos/lazy.jpg\" alt=\"Aragán\" style=\"float: right; max-width: 300px;\"/>\n",
    "    * Ya tenemos otro módulo con el mismo nombre.\n",
    "    * El nombre es difícil de recordar.\n",
    "    * Queremos escribir menos.\n",
    "* Supongamos que tenemos un módulo con nombre ```modulo_con_un_nombre_muy_largo.py```\n",
    "* En vez de usar el siguiente ```import```:\n",
    "\t1. ```import modulo_con_un_nombre_muy_largo```\n",
    "\t2. ```print(modulo_con_un_nombre_muy_largo.hola)```\n",
    "* Podemos hacerlo de la siguiente manera con ```as```:\n",
    "\t1. ```import  modulo_con_un_nombre_muy_largo as e```\n",
    "\t2. ```print(e.hola)```\n",
    "* Adicionalmente podemos usar ```dir()``` para saber las funciones y métodos que tenemos disponibles en el espacio de nombres de nuestro archivo o usar ```dir(nombre_modulo)``` para obtener información de un módulo en particular."
   ]
  },
  {
   "cell_type": "markdown",
   "id": "ffaf69f5",
   "metadata": {
    "slideshow": {
     "slide_type": "slide"
    }
   },
   "source": [
    "# Módulos y función principal (o main)\n",
    "* Importar un módulo que define funciones y ejecuta sentencias puede dar lugar a resultados no deseados.\n",
    "* Dependiendo de la situación, puede ser importante especificar que únicamente queremos que se ejecute el código si el módulo es el principal o ```__main__```. \n"
   ]
  },
  {
   "cell_type": "code",
   "execution_count": null,
   "id": "74d20808",
   "metadata": {
    "slideshow": {
     "slide_type": "fragment"
    }
   },
   "outputs": [],
   "source": [
    "if __name__ == \"__main__\":\n",
    "    print(\"Hola! Solo aparezco si soy el archivo que ejecutaron\")\n",
    "else:\n",
    "    print(\"No soy el main!!!\")"
   ]
  },
  {
   "cell_type": "markdown",
   "id": "bf60329c",
   "metadata": {
    "slideshow": {
     "slide_type": "fragment"
    }
   },
   "source": [
    "* Si hacemos ```import``` desde otro módulo, este fragmento ya no se ejecutará al ser la sección principal la que corresponde al otro módulo."
   ]
  },
  {
   "cell_type": "markdown",
   "id": "dfe86528",
   "metadata": {
    "slideshow": {
     "slide_type": "slide"
    }
   },
   "source": [
    "# ¿Dónde se buscan los módulos?\n",
    "* Normalmente los módulos que importamos están en la misma carpeta, pero es posible acceder también a módulos ubicados en un subdirectorio. "
   ]
  },
  {
   "cell_type": "code",
   "execution_count": null,
   "id": "f4991843",
   "metadata": {
    "slideshow": {
     "slide_type": "fragment"
    }
   },
   "outputs": [],
   "source": [
    "from carpeta.ejemplo6_import import funcion\n",
    "funcion()"
   ]
  },
  {
   "cell_type": "markdown",
   "id": "74aca1d4",
   "metadata": {
    "slideshow": {
     "slide_type": "fragment"
    }
   },
   "source": [
    "* Es importante notar que <span class=\"py\">Python</span> busca los módulos en las rutas indicadas por el ```sys.path```. \n",
    "* Es decir, cuando se importa un módulo, lo intenta buscar en dichas carpetas. Podemos ver nuestro ```sys.path``` de la siguiente manera:"
   ]
  },
  {
   "cell_type": "code",
   "execution_count": null,
   "id": "b604302a",
   "metadata": {
    "slideshow": {
     "slide_type": "fragment"
    }
   },
   "outputs": [],
   "source": [
    "import sys\n",
    "print(*sys.path, sep='\\n')"
   ]
  },
  {
   "cell_type": "markdown",
   "id": "3d744037",
   "metadata": {
    "slideshow": {
     "slide_type": "slide"
    }
   },
   "source": [
    "# Paquetes\n",
    "* Solemos organizar nuestros archivos en diferentes carpetas y subcarpetas según un criterio para poder administrarlas más fácil y eficientemente. \n",
    "    * Por ejemplo, mantenemos todos nuestros videojuegos en una carpeta *\"Juegos\"* y subcategorizados de acuerdo a su género o plataforma. \n",
    "    * La misma analogía es la que aplica a los <span class=\"destacado\">paquetes</span> <span class=\"py\">Python</span>.\n",
    "* Un módulo en <span class=\"py\">Python</span> puede contener múltiples variables, funciones y clases mientras que un <span class=\"destacado\">paquete</span> contiene **múltiples módulos**. \n",
    "    * En términos más simples un <span class=\"destacado\">paquete</span> es un **directorio** que contiene varios **módulos**.\n",
    "* Para crear un <span class=\"destacado\">paquete</span>:\n",
    "    * Crear un directorio/carpeta\n",
    "    * Dentro de ese directorio crear un archivo vacío con nombre ```__init__.py```\n",
    "    * Luego, crear uno o más módulos en ese directorio."
   ]
  },
  {
   "cell_type": "markdown",
   "id": "3016a79e",
   "metadata": {
    "slideshow": {
     "slide_type": "slide"
    }
   },
   "source": [
    "# Bibliografía \n",
    "* Óscar Ramírez Jiménez: ***\"Python a fondo\"*** 1era Edición. Editorial Marcombo S.L.. 2021.\n",
    "* Allen Downey. ***\"Think Python\"***. 2da Edición. Editorial Green Tea Press. 2015.\n",
    "* Bill Lubanovic. ***\"Introducing Python\"***. 2da Edición. O’ Reilly. 2020.\n",
    "* Eirc Matthes: ***\"Python Crash Course\"***. 1era Edición. Editorial No Starch Press. 2016.\n",
    "* Zed A. Shaw: ***\"Learn Python 3 the Hard Way\"***. 1era Edición. Editorial Addison-Wesley. 2017.\n",
    "* Web - John Sturtz: ***Python \"for\" Loops (Definite Iteration)***. <a href=\"https://realpython.com/python-for-loop/\">Enlace</a>. "
   ]
  }
 ],
 "metadata": {
  "kernelspec": {
   "display_name": "Python 3 (ipykernel)",
   "language": "python",
   "name": "python3"
  },
  "language_info": {
   "codemirror_mode": {
    "name": "ipython",
    "version": 3
   },
   "file_extension": ".py",
   "mimetype": "text/x-python",
   "name": "python",
   "nbconvert_exporter": "python",
   "pygments_lexer": "ipython3",
   "version": "3.11.3"
  },
  "rise": {
   "enable_chalkboard": true,
   "scroll": true,
   "theme": "simple",
   "transition": "slide"
  },
  "widgets": {
   "application/vnd.jupyter.widget-state+json": {
    "state": {},
    "version_major": 2,
    "version_minor": 0
   }
  }
 },
 "nbformat": 4,
 "nbformat_minor": 5
}
