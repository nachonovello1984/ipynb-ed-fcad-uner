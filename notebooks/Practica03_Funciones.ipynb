{
 "cells": [
  {
   "cell_type": "markdown",
   "id": "213b8c3e-9aa0-4abb-947c-3b570b72d202",
   "metadata": {
    "editable": false,
    "slideshow": {
     "slide_type": "slide"
    },
    "tags": []
   },
   "source": [
    "<div class=\"portada\">\n",
    "    <img src=\"assets/fcad-70.png\" alt=\"Texto alternativo\"  alt=\"Facultad de Ciencias de la Administración - UNER\" style=\"display: inline; width:50%; max-width: 450px;\"/>\n",
    "    <h1>Unidad 1: Introducción a Estructuras de Datos</h1>\n",
    "    <h3>Estructuras de Datos</h3>\n",
    "    <h4>Facultad de Ciencias de la Administración - UNER</h4>\n",
    "</div>"
   ]
  },
  {
   "cell_type": "code",
   "execution_count": 1,
   "id": "44d46d81",
   "metadata": {},
   "outputs": [
    {
     "name": "stdout",
     "output_type": "stream",
     "text": [
      "PRIMER CUATRIMESTRE DE 2024 😎\n"
     ]
    }
   ],
   "source": [
    "from datetime import datetime\n",
    "print(f\"{'PRIMER' if datetime.now().month < 7 else 'SEGUNDO'} CUATRIMESTRE DE {datetime.now().year} 😎\")"
   ]
  },
  {
   "cell_type": "markdown",
   "id": "e1eddf1b-a283-4327-baee-42f0580ae8c4",
   "metadata": {
    "editable": false,
    "slideshow": {
     "slide_type": "slide"
    },
    "tags": []
   },
   "source": [
    "# Funciones y módulos\n",
    "\n",
    "## Objetivos\n",
    "* Entender cómo definir funciones. \n",
    "* Comprender las distintas técnicas para separar las responsabilidades de una aplicación.\n",
    "* Conocer la importancia de la reutilización de código.\n",
    "* Definir funciones recursivas."
   ]
  },
  {
   "cell_type": "markdown",
   "id": "4d66a3ce",
   "metadata": {
    "slideshow": {
     "slide_type": "subslide"
    }
   },
   "source": [
    "## Temas a desarrollar:\n",
    "* Modularización. Definición. Funciones. Definición.\n",
    "* Parámetros y argumentos. Técnicas de diseño top-down y bottom-up. \n",
    "* Recursividad. Definición. "
   ]
  },
  {
   "cell_type": "markdown",
   "id": "144705c6-cc1c-4cfc-8367-9df441943f4e",
   "metadata": {
    "editable": false,
    "slideshow": {
     "slide_type": "slide"
    },
    "tags": []
   },
   "source": [
    "# Módulos\n",
    "* Uno de los métodos fundamentales para resolver un problema es dividirlo en problemas más pequeños llamados **subproblemas**. \n",
    "* Estos problemas pueden ser divididos repetidamente en problemas más pequeños hasta que sean solucionados.\n",
    "* La técnica de dividir el problema principal en subproblemas se denomina frecuentemente, <span class=\"destacado\">divide y vencerás</span>. \n",
    "* El método de diseñar la solución de un problema principal obteniendo las soluciones de sus subproblemas se denomina <span class=\"destacado\">diseño descendente (top-down design)</span> debido a que se comienza en la parte superior con un problema general y se diseñan soluciones específicas a sus subproblemas.\n",
    "    * Cada subproblema es deseable que sea **independiente** de los restantes y se denomina **módulo**.\n",
    "    * El problema principal se resuelve con el programa principal (también llamado conductor del programa) y los subproblemas (**módulos**) mediante subprogramas.\n"
   ]
  },
  {
   "cell_type": "markdown",
   "id": "a3bc0d34",
   "metadata": {
    "slideshow": {
     "slide_type": "subslide"
    }
   },
   "source": [
    "# Modularización y diseño descendente (2)\n",
    "* Un **subprograma** realiza una tarea concreta que se describe con una serie de instrucciones.\n",
    "* La resolución de un problema comienza con una <span class=\"destacado\">descomposición modular</span> y luego nuevas descomposiciones de cada módulo en un proceso denominado <span class=\"destacado\">refinamiento sucesivo</span> (stepwise).\n",
    "* **Ejemplo**:\n",
    "    * Dadas las puntuaciones de una clase de informática, ordenar las puntuaciones (notas) en orden descendente; a continuación visualizar la calificación alcanzada basada en la puntuación. Realizar el análisis y el algoritmo.\n",
    "<figure class=\"centrado\">\n",
    "  <picture>\n",
    "    <img src=\"assets/Practica03_Funciones/diseno_descendente.png\" alt=\"Diseño descendente - Notas\">\n",
    "  </picture>\n",
    "</figure>"
   ]
  },
  {
   "cell_type": "markdown",
   "id": "625892ac-a8c9-4785-8208-e54bcab7d241",
   "metadata": {
    "editable": false,
    "slideshow": {
     "slide_type": "slide"
    },
    "tags": []
   },
   "source": [
    "# Funciones\n",
    "* En el contexto de programación, una **función** es un <span class=\"destacado\">nombre</span> que se le asigna a una <span class=\"destacado\">secuencia de sentencias</span> que llevan a cabo un cómputo. \n",
    "* Una **función** nos permite definir un bloque de código <span class=\"destacado\">reutilizable</span> que se puede ejecutar muchas veces dentro de nuestro programa.\n",
    "* El resultado es un código simple, elegante y más legible, lo que facilita la depuración y limita los errores de escritura."
   ]
  },
  {
   "cell_type": "markdown",
   "id": "040f7585",
   "metadata": {
    "slideshow": {
     "slide_type": "slide"
    }
   },
   "source": [
    "# Llamadas a funciones\n",
    "\n",
    "* Ya previamente vimos invocaciones a funciones cuando usamos la función ```type(42)```."
   ]
  },
  {
   "cell_type": "code",
   "execution_count": 2,
   "id": "4d98be6d",
   "metadata": {
    "slideshow": {
     "slide_type": "fragment"
    }
   },
   "outputs": [
    {
     "name": "stdout",
     "output_type": "stream",
     "text": [
      "<class 'int'>\n"
     ]
    }
   ],
   "source": [
    "print(type(42))"
   ]
  },
  {
   "cell_type": "markdown",
   "id": "8ed350d1",
   "metadata": {
    "slideshow": {
     "slide_type": "fragment"
    }
   },
   "source": [
    "* El nombre de la función es ```type```. La expresión entre paréntesis es llamada el <span class=\"destacado\">argumento</span> de la función. El **resultado**, para esta función es el tipo del argumento.\n",
    "* Es común decir que la función <span class=\"destacado\">\"toma\"</span> un **argumento** y <span class=\"destacado\">\"retorna\"</span> un **resultado**."
   ]
  },
  {
   "cell_type": "markdown",
   "id": "ffdb4d5a",
   "metadata": {
    "slideshow": {
     "slide_type": "slide"
    }
   },
   "source": [
    "# Funciones matemáticas\n",
    "* El **módulo math** nos provee las funciones matemáticas más comunes. \n",
    "* Un <span class=\"destacado\">módulo</span> es un archivo que contiene una colección de funciones relacionadas. Antes de que podamos usar las funciones de un módulo, tenemos que <span class=\"destacado\">importarlo</span> con la sentencia ```import```."
   ]
  },
  {
   "cell_type": "code",
   "execution_count": 3,
   "id": "27086d33",
   "metadata": {
    "slideshow": {
     "slide_type": "fragment"
    }
   },
   "outputs": [
    {
     "name": "stdout",
     "output_type": "stream",
     "text": [
      "<module 'math' (built-in)>\n"
     ]
    }
   ],
   "source": [
    "import math\n",
    "print(math)"
   ]
  },
  {
   "cell_type": "markdown",
   "id": "ba71d59f",
   "metadata": {
    "slideshow": {
     "slide_type": "fragment"
    }
   },
   "source": [
    "* ```import math```crea un objeto de **tipo módulo** que se llama ```math```. \n",
    "* Para acceder a las funciones del módulo, se tiene que especificar el nombre del módulo y el nombre de la función, separados por el símbolo punto ```.```. "
   ]
  },
  {
   "cell_type": "code",
   "execution_count": 4,
   "id": "5b26c74c",
   "metadata": {
    "slideshow": {
     "slide_type": "fragment"
    }
   },
   "outputs": [
    {
     "name": "stdout",
     "output_type": "stream",
     "text": [
      "ratio: 0.11764705882352941, decibels: -9.294189257142927, radians: 0.7, height: 0.644217687237691\n"
     ]
    }
   ],
   "source": [
    "signal_power = int(input(\"Ingrese un valor para señal: \"))\n",
    "noise_power = int(input(\"Ingrese un valor para ruido: \"))\n",
    "\n",
    "ratio = signal_power / noise_power\n",
    "decibels = 10 * math.log10(ratio)\n",
    "radians = 0.7\n",
    "height = math.sin(radians)\n",
    "\n",
    "print(f\"ratio: {ratio}, decibels: {decibels}, radians: {radians}, height: {height}\")"
   ]
  },
  {
   "cell_type": "markdown",
   "id": "0dde21ca",
   "metadata": {
    "slideshow": {
     "slide_type": "fragment"
    }
   },
   "source": [
    "* En el ejemplo usamos ```math.log10``` para computar la relación señal/ruido en decibeles. El módulo ```math``` también provee de la función ```log```, que computa logaritmos en base ```e```."
   ]
  },
  {
   "cell_type": "markdown",
   "id": "aa095395",
   "metadata": {
    "slideshow": {
     "slide_type": "slide"
    }
   },
   "source": [
    "# Creación de funciones\n",
    "* <span class=\"py\">Python</span> nos permite crear nuestras propias funciones. Una **definición de función** especifica el <span class=\"destacado\">nombre</span> para la nueva función y una secuencia de sentencias que se van a ejecutar cuando la función sea invocada. Ejemplo:"
   ]
  },
  {
   "cell_type": "code",
   "execution_count": 5,
   "id": "21a8a903",
   "metadata": {
    "slideshow": {
     "slide_type": "fragment"
    }
   },
   "outputs": [],
   "source": [
    "def imprimir_letra():\n",
    "    print(\"Hey Jude, don't make it bad.\")\n",
    "    print(\"Take a sad song and make it better.\")"
   ]
  },
  {
   "cell_type": "markdown",
   "id": "846a7c38",
   "metadata": {},
   "source": [
    "* La definición de las funciones se ejecuta tal cual el resto de las sentencias, no generan ninguna salida y el efecto que tienen es crear un **objeto función**.\n",
    "* La palabra reservada que indica que comienza la definición de una función es ```def```. El nombre de la función es ```imprimir_letra```. \n",
    "* Las reglas para los nombres de función son los mismas para los nombres de variables.\n",
    "* Los paréntesis vacíos luego del nombre de la función indican que no recibe ningún argumento.\n",
    "* La primer línea de la definición de la función llama <span class=\"destacado\">cabecera</span>; el resto <span class=\"destacado\">cuerpo</span>. La **cabecera** tiene que finalizar con el carácter ```:``` (dos puntos) y el cuerpo de la función tiene que estar identado. El cuerpo puede contener cualquier número de sentencias.\n",
    "* La sintaxis para invocar funciones creadas por nosotros es la misma que para las funciones integradas.\n",
    "```imprimir_letra()```"
   ]
  },
  {
   "cell_type": "code",
   "execution_count": 6,
   "id": "137dbb3f",
   "metadata": {},
   "outputs": [
    {
     "name": "stdout",
     "output_type": "stream",
     "text": [
      "Hey Jude, don't make it bad.\n",
      "Take a sad song and make it better.\n"
     ]
    }
   ],
   "source": [
    "imprimir_letra()"
   ]
  },
  {
   "cell_type": "markdown",
   "id": "b1660837",
   "metadata": {
    "slideshow": {
     "slide_type": "subslide"
    }
   },
   "source": [
    "# Creación de funciones (2)\n",
    "\n",
    "* Una vez que hemos definido una función podemos usarla dentro de otras funciones. \n",
    "* Por ejemplo, para repetir la letra varias veces podemos escribir una función llamada ```repetir_letra```:"
   ]
  },
  {
   "cell_type": "code",
   "execution_count": 7,
   "id": "442c6be8",
   "metadata": {
    "slideshow": {
     "slide_type": "fragment"
    }
   },
   "outputs": [
    {
     "name": "stdout",
     "output_type": "stream",
     "text": [
      "Hey Jude, don't make it bad.\n",
      "Take a sad song and make it better.\n",
      "Hey Jude, don't make it bad.\n",
      "Take a sad song and make it better.\n"
     ]
    }
   ],
   "source": [
    "def repetir_letra():\n",
    "    imprimir_letra()\n",
    "    imprimir_letra()\n",
    "    \n",
    "# Y luego llamar a la función repetir_letra:\n",
    "repetir_letra()"
   ]
  },
  {
   "cell_type": "markdown",
   "id": "6b84f655",
   "metadata": {
    "slideshow": {
     "slide_type": "slide"
    }
   },
   "source": [
    "# Parámetros y argumentos\n",
    "* Existen funciones que requieren un argumento. Por ejemplo, cuando llamamos a la función ```math.sin``` pasamos un número como argumento.\n",
    "* Otras funciones requieren más de un argumento. Por ejemplo, ```math.pow```, necesita base y exponente.\n",
    "* Dentro de la función, los argumentos son asignados a variables que se llaman <span class=\"destacado\">parámetros</span>. \n",
    "* Los **argumentos y parámetros** se los llaman <span class=\"destacado\">parámetros actuales y formales</span> respectivamente.\n",
    "* Aquí la definición de una función que acepta argumentos:"
   ]
  },
  {
   "cell_type": "code",
   "execution_count": 8,
   "id": "92af4436",
   "metadata": {
    "slideshow": {
     "slide_type": "fragment"
    }
   },
   "outputs": [],
   "source": [
    "def imprimir_dos_veces(nombre):\n",
    "    \"\"\"\n",
    "        La función asigna el argumento a un parámetro que se llama nombre. \n",
    "        Cuando la función es invocada, imprime el valor del parámetro dos veces. \n",
    "        Funciona con cualquier valor que pueda imprimirse por pantalla.\n",
    "    \"\"\"\n",
    "    print(nombre)\n",
    "    print(nombre)\n"
   ]
  },
  {
   "cell_type": "markdown",
   "id": "a7319ff4",
   "metadata": {
    "slideshow": {
     "slide_type": "slide"
    }
   },
   "source": [
    "# Alcance de variables y parámetros\n",
    "* Cuando creamos una variable dentro de una función su alcance es local, esto quiere decir que solo existe dentro de la función. Por ejemplo:"
   ]
  },
  {
   "cell_type": "code",
   "execution_count": 9,
   "id": "0ec1acee",
   "metadata": {
    "slideshow": {
     "slide_type": "fragment"
    }
   },
   "outputs": [
    {
     "name": "stdout",
     "output_type": "stream",
     "text": [
      "texto1texto2\n",
      "texto1texto2\n"
     ]
    }
   ],
   "source": [
    "def concat_imprimir(part1, part2):\n",
    "    \"\"\"\n",
    "    Esta función toma dos argumentos, los concatena, e imprime los resultados dos veces\n",
    "    \"\"\"\n",
    "    cat = part1 + part2\n",
    "    imprimir_dos_veces(cat)\n",
    "\n",
    "linea1 = input(\"Escriba un texto: \")\n",
    "linea2 = input(\"Escriba otro texto: \")\n",
    "concat_imprimir(linea1, linea2)"
   ]
  },
  {
   "cell_type": "markdown",
   "id": "d97eed40",
   "metadata": {
    "slideshow": {
     "slide_type": "fragment"
    }
   },
   "source": [
    "* Los parámetros son locales a la función. Cuando ```concat_imprimir``` termina, la variable ```cat``` es destruida. Si intentamos imprimir su valor obtendremos una excepción:"
   ]
  },
  {
   "cell_type": "code",
   "execution_count": 10,
   "id": "652be585",
   "metadata": {
    "slideshow": {
     "slide_type": "fragment"
    }
   },
   "outputs": [
    {
     "ename": "NameError",
     "evalue": "name 'cat' is not defined",
     "output_type": "error",
     "traceback": [
      "\u001b[1;31m---------------------------------------------------------------------------\u001b[0m",
      "\u001b[1;31mNameError\u001b[0m                                 Traceback (most recent call last)",
      "Cell \u001b[1;32mIn[10], line 1\u001b[0m\n\u001b[1;32m----> 1\u001b[0m \u001b[38;5;28mprint\u001b[39m(\u001b[43mcat\u001b[49m)\n",
      "\u001b[1;31mNameError\u001b[0m: name 'cat' is not defined"
     ]
    }
   ],
   "source": [
    "print(cat)"
   ]
  },
  {
   "cell_type": "markdown",
   "id": "91de647a",
   "metadata": {
    "slideshow": {
     "slide_type": "slide"
    }
   },
   "source": [
    "# Funciones que no retornan valores\n",
    "* Algunas funciones que hemos usado, tales como las funciones matemáticas, <span class=\"destacado\">retornan valores</span> (en algunos contextos se llaman <span class=\"destacado\">funciones que retornan valores</span> o **fructíferas**). \n",
    "* En funciones, como ```imprimir_dos_veces```, se lleva a cabo una acción pero <span class=\"destacado\">NO se retorna un valor</span>.\n",
    "* Estas funciones son llamadas **funciones que no retornan valores**.\n",
    "* Cuando llamamos a una función que retorna valores, casi siempre tenemos que hacer algo con el resultado. Por ejemplo, puede ser que queramos asignarlo a una variable o utilizarlo como parte de una expresión."
   ]
  },
  {
   "cell_type": "code",
   "execution_count": 6,
   "id": "15b14076",
   "metadata": {
    "slideshow": {
     "slide_type": "fragment"
    }
   },
   "outputs": [
    {
     "ename": "NameError",
     "evalue": "name 'math' is not defined",
     "output_type": "error",
     "traceback": [
      "\u001b[1;31m---------------------------------------------------------------------------\u001b[0m",
      "\u001b[1;31mNameError\u001b[0m                                 Traceback (most recent call last)",
      "Cell \u001b[1;32mIn[6], line 1\u001b[0m\n\u001b[1;32m----> 1\u001b[0m calculo \u001b[38;5;241m=\u001b[39m (\u001b[43mmath\u001b[49m\u001b[38;5;241m.\u001b[39msqrt(\u001b[38;5;241m5\u001b[39m) \u001b[38;5;241m+\u001b[39m \u001b[38;5;241m1\u001b[39m) \u001b[38;5;241m/\u001b[39m \u001b[38;5;241m2\u001b[39m\n\u001b[0;32m      2\u001b[0m \u001b[38;5;28mprint\u001b[39m(calculo)\n",
      "\u001b[1;31mNameError\u001b[0m: name 'math' is not defined"
     ]
    }
   ],
   "source": [
    "import math\n",
    "calculo = (math.sqrt(5) + 1) / 2\n",
    "print(calculo)"
   ]
  },
  {
   "cell_type": "markdown",
   "id": "f608d37c",
   "metadata": {
    "slideshow": {
     "slide_type": "fragment"
    }
   },
   "source": [
    "* Cuando llamamos a cualquier función en modo interactivo, <span class=\"py\">Python</span> muestra un resultado.\n",
    "* Pero en un script si **llamamos a una función** que **devuelve resultados** el <span class=\"destacado\">valor de retorno se pierde</span>.\n",
    "* Las funciones que retornan vacío puede ser que muestren algo en la pantalla o tengan algún efecto pero no tienen valor de retorno. Si asignamos el resultado a una variable, obtendremos un valor especial que es ```None```.\n",
    "* ```None``` no es lo mismo que ```\"None\"```. ```None``` es un valor que tiene su tipo especial "
   ]
  },
  {
   "cell_type": "code",
   "execution_count": 12,
   "id": "d6e2aaf0",
   "metadata": {
    "slideshow": {
     "slide_type": "fragment"
    }
   },
   "outputs": [
    {
     "name": "stdout",
     "output_type": "stream",
     "text": [
      "<class 'NoneType'>\n"
     ]
    }
   ],
   "source": [
    "print(type(None))"
   ]
  },
  {
   "cell_type": "markdown",
   "id": "820a2748",
   "metadata": {
    "slideshow": {
     "slide_type": "slide"
    }
   },
   "source": [
    "# ¿Por qué funciones?\n",
    "* Hay varias razones por las cuales vale la pena dividir un programa en funciones:\n",
    "    * Crear una nueva función nos da la oportunidad de nombrar un grupo de sentencias lo que hace <span class=\"destacado\">más fácil de leer y depurar nuestros programas</span>.\n",
    "    * Una función hace el programa más pequeño eliminado código repetitivo. Más tarde si tenemos que hacer un cambio <span class=\"destacado\">solo tenemos que hacerlo en un único lugar</span>.\n",
    "    * Dividir un programa largo en funciones nos permite depurar las partes que lo componen una a la vez y luego ensamblarlo en un todo que funcione.\n",
    "    * Las funciones bien diseñadas, generalmente son utilizadas por muchos programas. Una vez que escribimos y depuramos podemos reutiliza"
   ]
  },
  {
   "cell_type": "markdown",
   "id": "38926324",
   "metadata": {
    "slideshow": {
     "slide_type": "slide"
    }
   },
   "source": [
    "# Recursividad\n",
    "* La <span class=\"destacado\">recursividad</span> o <span class=\"destacado\">recursión</span> nos permite resolver problemas o tareas donde las mismas pueden ser divididas en subtareas cuya funcionalidad es la misma. Dado que los subproblemas a resolver son de la misma naturaleza, **se puede usar la misma función para resolverlos**. \n",
    "* Una <span class=\"destacado\">función recursiva</span> es aquella que se llama repetidamente a sí misma hasta llegar a un punto de salida.\n",
    "* La <span class=\"destacado\">recursión</span> puede ser utilizada como una **alternativa a la repetición o estructura repetitiva**. \n",
    "* El uso de la <span class=\"destacado\">recursión</span> es particularmente idóneo para la solución de aquellos problemas que pueden definirse de modo natural en términos recursivos (sobre todo de cálculo.). \n",
    "* Una <span class=\"destacado\">función recursiva</span> es similar a una tradicional solo que tiene dos secciones de código claramente divididas:\n",
    "    * La sección en la que la **función se llama a sí misma**.\n",
    "    * Por otro lado, tiene que existir siempre  una <span class=\"destacado\">condición de terminación</span> en la que la función **retorna** sin volver a llamarse. Es muy importante porque **de lo contrario**, la función **se llamaría de manera indefinida**."
   ]
  },
  {
   "cell_type": "markdown",
   "id": "63c5cf2d",
   "metadata": {
    "slideshow": {
     "slide_type": "slide"
    }
   },
   "source": [
    "# Cuenta regresiva\n",
    "* Reveamos la solución iterativa de la cuenta regresiva para luego realizar su implementación recursiva.\n",
    "## Implementación usando while"
   ]
  },
  {
   "cell_type": "code",
   "execution_count": 16,
   "id": "92d911e2",
   "metadata": {
    "slideshow": {
     "slide_type": "fragment"
    }
   },
   "outputs": [
    {
     "name": "stdout",
     "output_type": "stream",
     "text": [
      "5\n",
      "4\n",
      "3\n",
      "2\n",
      "1\n",
      "It's the final countdown!!! Tarata taaaaa!!!\n"
     ]
    }
   ],
   "source": [
    "def cuenta_descendente(n):\n",
    "    while n > 0:\n",
    "        print (n)\n",
    "        n = n - 1\n",
    "    print (\"It's the final countdown!!! Tarata taaaaa!!!\")\n",
    "\n",
    "cuenta_descendente(5)"
   ]
  },
  {
   "cell_type": "markdown",
   "id": "5bde0541",
   "metadata": {
    "slideshow": {
     "slide_type": "fragment"
    }
   },
   "source": [
    "## Implementación recusiva"
   ]
  },
  {
   "cell_type": "code",
   "execution_count": 15,
   "id": "f107da3f",
   "metadata": {
    "slideshow": {
     "slide_type": "fragment"
    }
   },
   "outputs": [
    {
     "name": "stdout",
     "output_type": "stream",
     "text": [
      "5\n",
      "4\n",
      "3\n",
      "2\n",
      "1\n",
      "It's the final countdown! Tarata taaaa!!!\n"
     ]
    }
   ],
   "source": [
    "def cuenta_descedente_rec(n):\n",
    "    if n == 0:\n",
    "        print(\"It's the final countdown! Tarata taaaa!!!\")\n",
    "    else:\n",
    "        print(n)        \n",
    "        cuenta_descedente_rec(n - 1)\n",
    "        \n",
    "cuenta_descedente_rec(5)"
   ]
  },
  {
   "cell_type": "markdown",
   "id": "861bad28",
   "metadata": {
    "slideshow": {
     "slide_type": "slide"
    }
   },
   "source": [
    "# Factorial\n",
    "* Muchas funciones matemáticas se definen **recursivamente**. Un ejemplo de ello es el factorial de un número entero n.\n",
    "<figure class=\"centrado\">\n",
    "  <picture>\n",
    "    <img src=\"assets/Practica03_Funciones/factorial_definicion.png\" alt=\"Definición matemática de factorial\">\n",
    "  </picture>\n",
    "</figure>\n",
    "\n",
    "* Si se observa la fórmula anterior cuando ```n > 0```, es fácil definir n! en función de ```(n–1)!``` Por ejemplo, ```5```:\n",
    "  * ```5! = 5x4x3x2x1 = 120```\n",
    "  * ```4! = 4x3x2x1 = 24```\n",
    "  * ```3! = 3x2x1 = 6```\n",
    "  * ```2! = 2x1 = 2```\n",
    "  * ```1! = 1x1 = 1```\n",
    "  * ```0! = 1 = 1```\n",
    "* En términos generales sería:\n",
    "<figure class=\"centrado\">\n",
    "  <picture>\n",
    "    <img src=\"assets/Practica03_Funciones/factorial_definicion2.png\" alt=\"Definición matemática simplificada\">\n",
    "  </picture>\n",
    "</figure>"
   ]
  },
  {
   "cell_type": "markdown",
   "id": "85d07b43",
   "metadata": {
    "slideshow": {
     "slide_type": "subslide"
    }
   },
   "source": [
    "# Factorial (2)"
   ]
  },
  {
   "cell_type": "code",
   "execution_count": 18,
   "id": "9ae50b62",
   "metadata": {
    "slideshow": {
     "slide_type": "fragment"
    }
   },
   "outputs": [
    {
     "name": "stdout",
     "output_type": "stream",
     "text": [
      "6\n"
     ]
    }
   ],
   "source": [
    "def factorial(n):\n",
    "    if n == 0:\n",
    "        return 1\n",
    "    return n * factorial(n-1)\n",
    "\n",
    "print(factorial(3))"
   ]
  },
  {
   "cell_type": "markdown",
   "id": "987f81b1",
   "metadata": {
    "slideshow": {
     "slide_type": "subslide"
    }
   },
   "source": [
    "# Factorial (3)\n",
    "<figure class=\"centrado\">\n",
    "  <picture>\n",
    "    <img src=\"assets/Practica03_Funciones/factorial_invocaciones.png\" alt=\"Invocaciones de la función factorial\">\n",
    "  </picture>\n",
    "</figure>"
   ]
  },
  {
   "cell_type": "markdown",
   "id": "b4f4373a",
   "metadata": {
    "slideshow": {
     "slide_type": "slide"
    }
   },
   "source": [
    "# Comprobación de tipos\n",
    "* ¿Qué sucede si llamamos a factorial con ```1.5``` como argumento?"
   ]
  },
  {
   "cell_type": "code",
   "execution_count": null,
   "id": "c2c0befe",
   "metadata": {
    "slideshow": {
     "slide_type": "fragment"
    }
   },
   "outputs": [],
   "source": [
    "factorial (1.5)"
   ]
  },
  {
   "cell_type": "markdown",
   "id": "78a7f178",
   "metadata": {
    "slideshow": {
     "slide_type": "fragment"
    }
   },
   "source": [
    "* Tiene todo el aspecto de una recursión infinita Pero, ¿Cómo ha podido ocurrir?\n",
    "* Hay una condición de salida o caso base: cuando ```n == 0```. Pero el valor de n nunca coincide con el caso base.\n",
    "* Para solucionar esto podemos usar la función ```isinstance()``` para determinar si el tipo del parámetro es entero y también controlar que el parámetro sea positivo:"
   ]
  },
  {
   "cell_type": "code",
   "execution_count": 17,
   "id": "78ae319e",
   "metadata": {
    "slideshow": {
     "slide_type": "fragment"
    }
   },
   "outputs": [
    {
     "name": "stdout",
     "output_type": "stream",
     "text": [
      "120\n"
     ]
    }
   ],
   "source": [
    "def factorial_control(n):\n",
    "    if not isinstance(n, int):\n",
    "        print('La función factorial solo se aplica a enteros.')\n",
    "        return None\n",
    "    elif n < 0:\n",
    "        print('La función factorial solo se aplica a enteros positivos.')\n",
    "        return None\n",
    "    elif n == 0:\n",
    "        return 1\n",
    "    else:\n",
    "        return n * factorial_control(n-1)\n",
    "    \n",
    "print(factorial_control(5))"
   ]
  },
  {
   "cell_type": "markdown",
   "id": "6bb1d13a",
   "metadata": {
    "slideshow": {
     "slide_type": "slide"
    }
   },
   "source": [
    "# Espacios de nombres y alcance de variables\n",
    "* Un nombre de variable puede referirse a diferentes cosas, dependiendo de dónde se use. \n",
    "* Los programas de <span class=\"py\">Python</span> tienen varios <span class=\"destacado\">espacios de nombres</span>. Un <span class=\"destacado\">espacios de nombres</span> es una sección dentro de la cual un nombre en particular es único y no está relacionado con el mismo nombre en otros espacios de nombres.\n",
    "* Cada **función** define su propio **espacio de nombres**. Si define una variable con nombre ```x``` en un programa principal y otra variable llamada ```x``` en una función, se refieren a cosas diferentes. \n",
    "    * Sin embargo, en caso de ser necesario, esto puede superarse. Se puede acceder a variables en otros espacios de nombres de varias maneras.\n",
    "* La parte principal de un programa define el <span class=\"destacado\">espacio de nombres global</span>; por lo tanto, las variables en ese espacio de nombres son <span class=\"destacado\">variables globales</span>.\n",
    "* Puede obtenerse el valor de una variable global desde dentro de una función:"
   ]
  },
  {
   "cell_type": "code",
   "execution_count": null,
   "id": "ac598f4a",
   "metadata": {
    "slideshow": {
     "slide_type": "fragment"
    }
   },
   "outputs": [],
   "source": [
    "animal = 'carpincho'\n",
    "def print_en_funcion():\n",
    "    print('En función:', animal)\n",
    "\n",
    "print('En el nivel superior:', animal)\n",
    "print_en_funcion()"
   ]
  },
  {
   "cell_type": "markdown",
   "id": "a4703093",
   "metadata": {
    "slideshow": {
     "slide_type": "subslide"
    }
   },
   "source": [
    "# Espacios de nombres y alcance de variables (2)\n",
    "* Cambiamos un poco el ejemplo:"
   ]
  },
  {
   "cell_type": "code",
   "execution_count": null,
   "id": "642208e6",
   "metadata": {
    "slideshow": {
     "slide_type": "fragment"
    }
   },
   "outputs": [],
   "source": [
    "animal = 'carpincho'\n",
    "def cambiar_local():\n",
    "    animal = 'benteveo' # variable local a función, oculta la global\n",
    "    print('En función cambiar_local():', animal, id(animal))\n",
    "\n",
    "print('En el nivel superior:', animal, id(animal))\n",
    "cambiar_local()"
   ]
  },
  {
   "cell_type": "markdown",
   "id": "5f434ef3",
   "metadata": {
    "slideshow": {
     "slide_type": "fragment"
    }
   },
   "source": [
    "* ¿Que pasó aquí? La primera línea asignó la cadena ```'carpincho'``` a una variable **global** llamada ```animal```. \n",
    "* La función ```cambiar_local()``` también tiene una variable llamada ```animal```, pero está en su espacio de <span class=\"destacado\">nombres local</span>.\n",
    "* Usamos la función ```id()``` para imprimir el valor único de cada objeto y probar que la variable ```animal``` dentro de ```cambiar_local()``` no es lo mismo que ```animal``` en el nivel principal del programa."
   ]
  },
  {
   "cell_type": "markdown",
   "id": "a44c5a33",
   "metadata": {
    "slideshow": {
     "slide_type": "slide"
    }
   },
   "source": [
    "# Espacios de nombres y alcance de variables (3)\n",
    "* Para acceder a la variable **global** en lugar de la local dentro de una función, debe ser explícito y usar la palabra clave **global**:"
   ]
  },
  {
   "cell_type": "code",
   "execution_count": null,
   "id": "b159ed49",
   "metadata": {
    "slideshow": {
     "slide_type": "fragment"
    }
   },
   "outputs": [],
   "source": [
    "animal = 'carpincho'\n",
    "def cambiar_local():\n",
    "    global animal \n",
    "    animal = 'benteveo' # acceso a variable global\n",
    "    print('En función cambiar_local():', animal, id(animal))\n",
    "\n",
    "print('En el nivel superior:', animal, id(animal))\n",
    "cambiar_local() \n",
    "print('En el nivel superior:', animal, id(animal))"
   ]
  },
  {
   "cell_type": "markdown",
   "id": "28518d0d",
   "metadata": {
    "slideshow": {
     "slide_type": "fragment"
    }
   },
   "source": [
    "* Si no anteponemos ```global``` al nombre de la variable dentro de una función, <span class=\"py\">Python</span> usa el espacio de nombres local y la variable es local, desapareciendo después de completada la función."
   ]
  },
  {
   "cell_type": "markdown",
   "id": "fd696335",
   "metadata": {
    "slideshow": {
     "slide_type": "slide"
    }
   },
   "source": [
    "# Orden y posición de parámetros\n",
    "* Cuando definimos una función, en su forma más básica, indicamos los nombres de los parámetros formales.\n",
    "* También se define el orden en que deben colocarse los argumentos (parámetros actuales) cuando se invoca.\n",
    "* Debemos respetar este orden, si no queremos tener resultados no deseados."
   ]
  },
  {
   "cell_type": "code",
   "execution_count": 19,
   "id": "884017ad",
   "metadata": {
    "slideshow": {
     "slide_type": "fragment"
    }
   },
   "outputs": [
    {
     "name": "stdout",
     "output_type": "stream",
     "text": [
      "Digo Hola a Juan\n",
      "Digo Juan a Hola\n"
     ]
    }
   ],
   "source": [
    "def saludar(saludo, nombre):\n",
    "    print(\"Digo\", saludo, \"a\", nombre)\n",
    "\n",
    "saludar(\"Hola\", \"Juan\")\n",
    "saludar(\"Juan\", \"Hola\")"
   ]
  },
  {
   "cell_type": "markdown",
   "id": "ac10a000",
   "metadata": {
    "slideshow": {
     "slide_type": "subslide"
    }
   },
   "source": [
    "# Orden y posición de parámetros (2)\n",
    "\n",
    "* Podemos alterar el orden de pasaje de parámetros, siempre y cuando digamos explícitamente el nombre del parámetro formal que recibe el valor pasado."
   ]
  },
  {
   "cell_type": "code",
   "execution_count": null,
   "id": "fb261989",
   "metadata": {
    "slideshow": {
     "slide_type": "fragment"
    }
   },
   "outputs": [],
   "source": [
    "# Definición saludar con 2 parámetros formales: saludo y nombre\n",
    "def saludar(saludo, nombre):\n",
    "    print(\"Digo\", saludo, \"a\", nombre)\n",
    "saludar(nombre=\"Juan\", saludo=\"Hola\")"
   ]
  },
  {
   "cell_type": "markdown",
   "id": "c9db7abc",
   "metadata": {
    "slideshow": {
     "slide_type": "fragment"
    }
   },
   "source": [
    "* La ventaja es que podemos alterar el orden de argumentos.\n",
    "* La desventaja es que, sí o sí, debemos conocer el nombre de los parámetros para invocar la función de esta manera.\n",
    "* Se pueden pasar argumentos con nombres explícitos y sin nombres. En el caso de no tener nombre, se los ubica por posición."
   ]
  },
  {
   "cell_type": "code",
   "execution_count": null,
   "id": "56eb0d18",
   "metadata": {
    "slideshow": {
     "slide_type": "fragment"
    }
   },
   "outputs": [],
   "source": [
    "# Ejemplo de error ya que asignamos dos veces un valor al parámetro saludo (por posición y por nombre).\n",
    "saludar(\"Juan\", saludo=\"Hola\")"
   ]
  },
  {
   "cell_type": "markdown",
   "id": "228da878",
   "metadata": {
    "slideshow": {
     "slide_type": "slide"
    }
   },
   "source": [
    "# Parámetros opcionales y valores por defecto\n",
    "* Podemos omitir el pasaje de algún argumento a una función. Como si el parámetro fuese “opcional”; sin embargo, en <span class=\"py\">Python</span> esto no es así.\n",
    "* Se puede omitir el pasaje de un argumento, siempre y cuando, en la definición de la función, el parámetro correspondiente tenga un valor por defecto o default.\n"
   ]
  },
  {
   "cell_type": "code",
   "execution_count": null,
   "id": "d9c089c4",
   "metadata": {
    "slideshow": {
     "slide_type": "fragment"
    }
   },
   "outputs": [],
   "source": [
    "# Def. saludar2 con 2 parámetros formales: nombre y saludo con default\n",
    "def saludar2(nombre, saludo=\"Ciao\"):\n",
    "    print(\"Digo\", saludo, \"a\", nombre)\n",
    "\n",
    "saludar2(\"Giovanni\")\n",
    "saludar2(\"Juan\")\n",
    "\n",
    "saludar2(\"Juan\", \"Hola\")\n",
    "\n",
    "saludar2()  # Error. Los parámetros sin defaults, son requeridos."
   ]
  },
  {
   "cell_type": "markdown",
   "id": "36727b6c",
   "metadata": {
    "slideshow": {
     "slide_type": "slide"
    }
   },
   "source": [
    "# Parámetros opcionales y valores por defecto\n",
    "* Por correctitud y legibilidad, los parámetros con defaults, van al final.\n",
    "* <span class=\"py\">Python</span> arroja error si esto no se respeta."
   ]
  },
  {
   "cell_type": "code",
   "execution_count": 21,
   "id": "2f6392b6",
   "metadata": {
    "slideshow": {
     "slide_type": "fragment"
    }
   },
   "outputs": [
    {
     "ename": "SyntaxError",
     "evalue": "non-default argument follows default argument (3472413477.py, line 2)",
     "output_type": "error",
     "traceback": [
      "\u001b[1;36m  Cell \u001b[1;32mIn[21], line 2\u001b[1;36m\u001b[0m\n\u001b[1;33m    def ecurecta(a=1, c=0, x): # Error. Los p.requeridos después de defaults.\u001b[0m\n\u001b[1;37m                           ^\u001b[0m\n\u001b[1;31mSyntaxError\u001b[0m\u001b[1;31m:\u001b[0m non-default argument follows default argument\n"
     ]
    }
   ],
   "source": [
    "# Def. saludar2 con 2 parámetros formales: nombre y saludo con valor defecto\n",
    "def ecurecta(a=1, c=0, x): # Error. Los p.requeridos después de defaults.\n",
    "    print(\"A:\",a,\"C:\",c,\"X:\",x)\n",
    "    return a*x + c\n",
    "print(ecurecta(3)) # SyntaxError: non-default argument follows default argument"
   ]
  },
  {
   "cell_type": "markdown",
   "id": "9f971092",
   "metadata": {
    "slideshow": {
     "slide_type": "fragment"
    }
   },
   "source": [
    "* Siempre los parámetros con defaults al final de la secuencia de parámetros."
   ]
  },
  {
   "cell_type": "code",
   "execution_count": 20,
   "id": "46479839",
   "metadata": {
    "slideshow": {
     "slide_type": "fragment"
    }
   },
   "outputs": [
    {
     "name": "stdout",
     "output_type": "stream",
     "text": [
      "A: 1 C: 0 X: 3\n",
      "3\n"
     ]
    }
   ],
   "source": [
    "def ecurecta(x, a=1, c=0): # ok.\n",
    "    print(\"A:\",a,\"C:\",c,\"X:\",x)\n",
    "    return a*x + c\n",
    "print(ecurecta(3)) # A: 1 C: 0 X: 3"
   ]
  },
  {
   "cell_type": "markdown",
   "id": "0f974a7c",
   "metadata": {
    "slideshow": {
     "slide_type": "slide"
    }
   },
   "source": [
    "# Cantidad arbitraria de argumentos\n",
    "* Hay situaciones en donde necesitamos definir funciones que reciban una cantidad arbitraria de argumentos.\n",
    "* En <span class=\"py\">Python</span> tenemos algunas funciones built-in que permiten esto. Por ejemplo ```print(...)```."
   ]
  },
  {
   "cell_type": "code",
   "execution_count": null,
   "id": "98fcd61d",
   "metadata": {
    "slideshow": {
     "slide_type": "fragment"
    }
   },
   "outputs": [],
   "source": [
    "print(\"Uno\")\n",
    "print(\"Uno\",\"Dos\")\n",
    "print(\"Uno\",\"Dos\",\"Tres\")\n",
    "print(\"Uno\",\"Dos\",\"Tres\",\"Cuatro\",\"Cinco\")\n",
    "print(1,.2e2,\"Tres\",[\"Cua\",\"tro\"], 5+5j)"
   ]
  },
  {
   "cell_type": "markdown",
   "id": "71d70672",
   "metadata": {
    "slideshow": {
     "slide_type": "subslide"
    }
   },
   "source": [
    "# Cantidad arbitraria de argumentos (2)\n",
    "* Para que una función pueda recibir un número arbitrario de argumentos, debemos definir parámetro con un operador ```*``` de unpaking. \n",
    "* En <span class=\"py\">Python</span> cuando marquemos un parámetro con ```*``` significa que todos los argumentos que no podemos asociar con ningún parámetro, serán agregados como una **tupla** al parámetro unpacking."
   ]
  },
  {
   "cell_type": "code",
   "execution_count": 30,
   "id": "31dab3dd",
   "metadata": {
    "slideshow": {
     "slide_type": "fragment"
    }
   },
   "outputs": [
    {
     "name": "stdout",
     "output_type": "stream",
     "text": [
      "producto(2,3):\n",
      "2 * 3 = 6\n",
      "6\n",
      "producto(2,3,4,5):\n",
      "2 * 3 = 6\n",
      "6 * 4 = 24\n",
      "24 * 5 = 120\n",
      "120\n",
      "producto(2,.3e2,4.5,5.5):\n",
      "2 * 30.0 = 60.0\n",
      "60.0 * 4.5 = 270.0\n",
      "270.0 * 5.5 = 1485.0\n",
      "1485.0\n"
     ]
    }
   ],
   "source": [
    "def producto(a,b,*args): # obligatorios a y b; y un p.unpaking args\n",
    "    res = a * b\n",
    "    print(a,\"*\",b,\"=\",res)\n",
    "    for val in args: \n",
    "        print(res,\"*\",val,\"=\",res*val)\n",
    "        res *= val\n",
    "    return res\n",
    "\n",
    "print(\"producto(2,3):\")\n",
    "print(producto(2,3))\n",
    "print(\"producto(2,3,4,5):\")\n",
    "print(producto(2,3,4,5))\n",
    "print(\"producto(2,.3e2,4.5,5.5):\")\n",
    "print(producto(2,.3e2,4.5,5.5))"
   ]
  },
  {
   "cell_type": "markdown",
   "id": "d0399d56",
   "metadata": {
    "slideshow": {
     "slide_type": "slide"
    }
   },
   "source": [
    "# Cantidad arbitrarios de argumentos por nombre\n",
    "* Cuando usamos ```*args``` en la función se trata el parámetro formal como una **tupla**. No hay forma de identificar a cada elemento de esa **tupla**, salvo sea por la posición. Por ejemplo: ```args[1]```, ```args[5]```.\n",
    "* Hay ocasiones que necesitamos pasar un numero arbitrario de argumentos que se puedan identificar con un nombre o clave. \n",
    "* En estos casos, <span class=\"py\">Python</span> permite que pasemos a tipo especial de parámetro, al igual que la tupla ```*args```, pero en este caso será una secuencia de clave -> valor, o <span class=\"destacado\">diccionario</span>. \n",
    "* Usaremos el parámetro ```**kwargs```. Pero para que se trate como un diccionario utilizaremos el prefijo ```**``` que es el operador de unpaking para diccionarios.\n",
    "* Por ejemplo, definamos una función para imprimir un informe de notas y el promedio. Pasemos un nombre, un curso y distintas notas (asignatura→calificación)."
   ]
  },
  {
   "cell_type": "code",
   "execution_count": 31,
   "id": "c11bad54",
   "metadata": {
    "slideshow": {
     "slide_type": "fragment"
    }
   },
   "outputs": [
    {
     "name": "stdout",
     "output_type": "stream",
     "text": [
      "Informe de Giovanni Curso: 1ro A\n",
      "Materia matemática Nota: 10\n",
      "Materia lengua Nota: 6\n",
      "Materia ingles Nota: 10\n",
      "Materia física Nota: 7\n",
      "Materia química Nota: 8\n",
      "Promedio: 8.2\n"
     ]
    }
   ],
   "source": [
    "def infoasig(nombre, curso, **kwargs): \n",
    "    print(\"Informe de\", nombre, \"Curso:\", curso)\n",
    "    \n",
    "    cant, prom = 0, 0\n",
    "    for key in kwargs: # en diccionarios se itera por clave\n",
    "        print(\"Materia\",key,\"Nota:\",kwargs[key])\n",
    "        prom += kwargs[key]\n",
    "        cant += 1\n",
    "    \n",
    "    print(\"Promedio:\",prom/cant)\n",
    "infoasig(\"Giovanni\",\"1ro A\",matemática=10,lengua=6,ingles=10,física=7,química=8)"
   ]
  },
  {
   "cell_type": "markdown",
   "id": "f00e32ea",
   "metadata": {
    "slideshow": {
     "slide_type": "subslide"
    }
   },
   "source": [
    "# Cantidad arbitrarios de argumentos por nombre (2)\n",
    "* El nombre ```kwargs``` es por convención (al igual que ```args```). Pero para que se trate como un diccionario utilizaremos el prefijo ```**``` que es el operador de unpaking para diccionarios.\n",
    "* En <span class=\"py\">Python</span>, los diccionarios se utilizan para almacenar valores de datos en pares <span class=\"destacado\">clave:valor</span>.\n",
    "* Un diccionario es una **colección ordenada** (desde Python 3.7), **mutable** (o modificable) y que **no admite duplicados**.\n",
    "* Si iteramos un diccionario con ```for```, el elemento iterado es la **clave**."
   ]
  },
  {
   "cell_type": "code",
   "execution_count": null,
   "id": "82d88687",
   "metadata": {
    "slideshow": {
     "slide_type": "fragment"
    }
   },
   "outputs": [],
   "source": [
    "def funcdumb(**kwargs): \n",
    "    print(kwargs)\n",
    "    print(type(kwargs))\n",
    "    print(dir(kwargs))\n",
    "    for key in kwargs:\n",
    "       print(\"key:\",key,\"val:\",kwargs[key],\"tipo:\",type(kwargs[key]))\n",
    "\n",
    "funcdumb(nombre=\"Tomas\",edad=33,pref=('Azul','Ford','SUV'),presup=12000)"
   ]
  },
  {
   "cell_type": "markdown",
   "id": "7aa559e3",
   "metadata": {
    "slideshow": {
     "slide_type": "subslide"
    }
   },
   "source": [
    "# Cantidad arbitrarios de argumentos por nombre (3)\n",
    "* Se utiliza ```*args``` para pasar un número arbitrario de argumentos posicionales.\n",
    "* Se utiliza ```**kwargs``` para pasar un número arbitrario de argumentos por nombre.\n",
    "* Si usamos ```*args``` o ```**kwargs``` **NO** significa que vamos a recibir una tupla o diccionarios (u similar) como argumentos. Sino que hay varios argumentos que se capturan por estos contenedores. \n",
    "* Por ejemplo, si lo tratamos con: "
   ]
  },
  {
   "cell_type": "code",
   "execution_count": null,
   "id": "f7f3cd5f",
   "metadata": {
    "slideshow": {
     "slide_type": "fragment"
    }
   },
   "outputs": [],
   "source": [
    "def infoasig(nombre, curso, **kwargs): # Contenedor de params por nombre\n",
    "    pass\n",
    "\n",
    "def infoasig2(nombre, curso, kwargs): # Tratado como param posicional\n",
    "    pass    \n"
   ]
  },
  {
   "cell_type": "markdown",
   "id": "5a76f2b2",
   "metadata": {
    "slideshow": {
     "slide_type": "slide"
    }
   },
   "source": [
    "# Secuencia y orden de parámetros\n",
    "* <span class=\"py\">Python</span> permite trabajar con parámetros posicionales, parámetros posicionales no definidos, parámetros con valor por defecto (o por nombre) y parámetros con valor por defecto no definidos. \n",
    "* Es decir que la signatura de una función en <span class=\"py\">Python</span> puede esquematizarse así:"
   ]
  },
  {
   "cell_type": "code",
   "execution_count": null,
   "id": "2633781d",
   "metadata": {
    "slideshow": {
     "slide_type": "fragment"
    }
   },
   "outputs": [],
   "source": [
    "def nombre_funcion(parapos1, \n",
    "                   parapos2, \n",
    "                   *args, \n",
    "                   paranom1=\"val1\", \n",
    "                   paranom2=\"val2\", \n",
    "                   **kwargs):\n",
    "    pass"
   ]
  },
  {
   "cell_type": "markdown",
   "id": "2929a38a",
   "metadata": {
    "slideshow": {
     "slide_type": "slide"
    }
   },
   "source": [
    "# Bibliografía \n",
    "* Óscar Ramírez Jiménez: ***\"Python a fondo\"*** 1era Edición. Editorial Marcombo S.L.. 2021.\n",
    "* Allen Downey. ***\"Think Python\"***. 2da Edición. Editorial Green Tea Press. 2015.\n",
    "* Bill Lubanovic. ***\"Introducing Python\"***. 2da Edición. O’ Reilly. 2020.\n",
    "* Eirc Matthes: ***\"Python Crash Course\"***. 1era Edición. Editorial No Starch Press. 2016.\n",
    "* Zed A. Shaw: ***\"Learn Python 3 the Hard Way\"***. 1era Edición. Editorial Addison-Wesley. 2017.\n",
    "* Web - John Sturtz: ***Python \"for\" Loops (Definite Iteration)***. <a href=\"https://realpython.com/python-for-loop/\">Enlace</a>. "
   ]
  }
 ],
 "metadata": {
  "kernelspec": {
   "display_name": "Python 3 (ipykernel)",
   "language": "python",
   "name": "python3"
  },
  "language_info": {
   "codemirror_mode": {
    "name": "ipython",
    "version": 3
   },
   "file_extension": ".py",
   "mimetype": "text/x-python",
   "name": "python",
   "nbconvert_exporter": "python",
   "pygments_lexer": "ipython3",
   "version": "3.11.3"
  },
  "rise": {
   "enable_chalkboard": true,
   "scroll": true,
   "theme": "simple",
   "transition": "slide"
  },
  "widgets": {
   "application/vnd.jupyter.widget-state+json": {
    "state": {},
    "version_major": 2,
    "version_minor": 0
   }
  }
 },
 "nbformat": 4,
 "nbformat_minor": 5
}
